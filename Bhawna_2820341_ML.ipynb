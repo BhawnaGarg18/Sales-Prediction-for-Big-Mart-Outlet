{
  "cells": [
    {
      "cell_type": "markdown",
      "metadata": {
        "id": "jmzZvRTGqJV_"
      },
      "source": [
        "### Sales Prediction for Big Mart Outlets\n",
        "\n",
        "The data scientists at BigMart have collected 2013 sales data for 1559 products across 10 stores in different cities. Also, certain attributes of each product and store have been defined. The aim is to build a predictive model and predict the sales of each product at a particular outlet.\n",
        "\n",
        "Using this model, BigMart will try to understand the properties of products and outlets which play a key role in increasing sales.\n",
        "\n",
        "Please note that the data may have missing values as some stores might not report all the data due to technical glitches. Hence, it will be required to treat them accordingly.\n",
        "\n",
        "Try and Build Regression model using all the techniques of regression: Linear, Ridge, Lasso, Decision Tree and XGboost"
      ]
    },
    {
      "cell_type": "code",
      "execution_count": null,
      "metadata": {
        "id": "97VEEKJrqJWS",
        "scrolled": true
      },
      "outputs": [],
      "source": [
        "# importing required data and libraries\n",
        "import pandas as pd\n",
        "from sklearn.tree import plot_tree\n",
        "import numpy as np\n",
        "import matplotlib.pyplot as plt\n",
        "import warnings\n",
        "warnings.filterwarnings(\"ignore\")\n",
        "\n",
        "\n",
        "# read the train data\n",
        "data=pd.read_csv(\"trainbigmart.csv\")"
      ]
    },
    {
      "cell_type": "code",
      "execution_count": null,
      "metadata": {
        "id": "UkEAyogvcRuS",
        "outputId": "50626d79-88c9-4960-d283-2ee4befb42c6"
      },
      "outputs": [
        {
          "data": {
            "text/html": [
              "<div>\n",
              "<style scoped>\n",
              "    .dataframe tbody tr th:only-of-type {\n",
              "        vertical-align: middle;\n",
              "    }\n",
              "\n",
              "    .dataframe tbody tr th {\n",
              "        vertical-align: top;\n",
              "    }\n",
              "\n",
              "    .dataframe thead th {\n",
              "        text-align: right;\n",
              "    }\n",
              "</style>\n",
              "<table border=\"1\" class=\"dataframe\">\n",
              "  <thead>\n",
              "    <tr style=\"text-align: right;\">\n",
              "      <th></th>\n",
              "      <th>Item_Identifier</th>\n",
              "      <th>Item_Weight</th>\n",
              "      <th>Item_Fat_Content</th>\n",
              "      <th>Item_Visibility</th>\n",
              "      <th>Item_Type</th>\n",
              "      <th>Item_MRP</th>\n",
              "      <th>Outlet_Identifier</th>\n",
              "      <th>Outlet_Establishment_Year</th>\n",
              "      <th>Outlet_Size</th>\n",
              "      <th>Outlet_Location_Type</th>\n",
              "      <th>Outlet_Type</th>\n",
              "      <th>Item_Outlet_Sales</th>\n",
              "    </tr>\n",
              "  </thead>\n",
              "  <tbody>\n",
              "    <tr>\n",
              "      <th>0</th>\n",
              "      <td>FDA15</td>\n",
              "      <td>9.30</td>\n",
              "      <td>Low Fat</td>\n",
              "      <td>0.016047</td>\n",
              "      <td>Dairy</td>\n",
              "      <td>249.8092</td>\n",
              "      <td>OUT049</td>\n",
              "      <td>1999</td>\n",
              "      <td>Medium</td>\n",
              "      <td>Tier 1</td>\n",
              "      <td>Supermarket Type1</td>\n",
              "      <td>3735.1380</td>\n",
              "    </tr>\n",
              "    <tr>\n",
              "      <th>1</th>\n",
              "      <td>DRC01</td>\n",
              "      <td>5.92</td>\n",
              "      <td>Regular</td>\n",
              "      <td>0.019278</td>\n",
              "      <td>Soft Drinks</td>\n",
              "      <td>48.2692</td>\n",
              "      <td>OUT018</td>\n",
              "      <td>2009</td>\n",
              "      <td>Medium</td>\n",
              "      <td>Tier 3</td>\n",
              "      <td>Supermarket Type2</td>\n",
              "      <td>443.4228</td>\n",
              "    </tr>\n",
              "    <tr>\n",
              "      <th>2</th>\n",
              "      <td>FDN15</td>\n",
              "      <td>17.50</td>\n",
              "      <td>Low Fat</td>\n",
              "      <td>0.016760</td>\n",
              "      <td>Meat</td>\n",
              "      <td>141.6180</td>\n",
              "      <td>OUT049</td>\n",
              "      <td>1999</td>\n",
              "      <td>Medium</td>\n",
              "      <td>Tier 1</td>\n",
              "      <td>Supermarket Type1</td>\n",
              "      <td>2097.2700</td>\n",
              "    </tr>\n",
              "    <tr>\n",
              "      <th>3</th>\n",
              "      <td>FDX07</td>\n",
              "      <td>19.20</td>\n",
              "      <td>Regular</td>\n",
              "      <td>0.000000</td>\n",
              "      <td>Fruits and Vegetables</td>\n",
              "      <td>182.0950</td>\n",
              "      <td>OUT010</td>\n",
              "      <td>1998</td>\n",
              "      <td>NaN</td>\n",
              "      <td>Tier 3</td>\n",
              "      <td>Grocery Store</td>\n",
              "      <td>732.3800</td>\n",
              "    </tr>\n",
              "    <tr>\n",
              "      <th>4</th>\n",
              "      <td>NCD19</td>\n",
              "      <td>8.93</td>\n",
              "      <td>Low Fat</td>\n",
              "      <td>0.000000</td>\n",
              "      <td>Household</td>\n",
              "      <td>53.8614</td>\n",
              "      <td>OUT013</td>\n",
              "      <td>1987</td>\n",
              "      <td>High</td>\n",
              "      <td>Tier 3</td>\n",
              "      <td>Supermarket Type1</td>\n",
              "      <td>994.7052</td>\n",
              "    </tr>\n",
              "  </tbody>\n",
              "</table>\n",
              "</div>"
            ],
            "text/plain": [
              "  Item_Identifier  Item_Weight Item_Fat_Content  Item_Visibility  \\\n",
              "0           FDA15         9.30          Low Fat         0.016047   \n",
              "1           DRC01         5.92          Regular         0.019278   \n",
              "2           FDN15        17.50          Low Fat         0.016760   \n",
              "3           FDX07        19.20          Regular         0.000000   \n",
              "4           NCD19         8.93          Low Fat         0.000000   \n",
              "\n",
              "               Item_Type  Item_MRP Outlet_Identifier  \\\n",
              "0                  Dairy  249.8092            OUT049   \n",
              "1            Soft Drinks   48.2692            OUT018   \n",
              "2                   Meat  141.6180            OUT049   \n",
              "3  Fruits and Vegetables  182.0950            OUT010   \n",
              "4              Household   53.8614            OUT013   \n",
              "\n",
              "   Outlet_Establishment_Year Outlet_Size Outlet_Location_Type  \\\n",
              "0                       1999      Medium               Tier 1   \n",
              "1                       2009      Medium               Tier 3   \n",
              "2                       1999      Medium               Tier 1   \n",
              "3                       1998         NaN               Tier 3   \n",
              "4                       1987        High               Tier 3   \n",
              "\n",
              "         Outlet_Type  Item_Outlet_Sales  \n",
              "0  Supermarket Type1          3735.1380  \n",
              "1  Supermarket Type2           443.4228  \n",
              "2  Supermarket Type1          2097.2700  \n",
              "3      Grocery Store           732.3800  \n",
              "4  Supermarket Type1           994.7052  "
            ]
          },
          "execution_count": 2,
          "metadata": {},
          "output_type": "execute_result"
        }
      ],
      "source": [
        "data.head()"
      ]
    },
    {
      "cell_type": "code",
      "execution_count": null,
      "metadata": {
        "id": "yp9XE9dbcRuU",
        "outputId": "d1632ee6-51e7-4fad-9c71-1c1177e77d70"
      },
      "outputs": [
        {
          "name": "stdout",
          "output_type": "stream",
          "text": [
            "<class 'pandas.core.frame.DataFrame'>\n",
            "RangeIndex: 8523 entries, 0 to 8522\n",
            "Data columns (total 12 columns):\n",
            " #   Column                     Non-Null Count  Dtype  \n",
            "---  ------                     --------------  -----  \n",
            " 0   Item_Identifier            8523 non-null   object \n",
            " 1   Item_Weight                7060 non-null   float64\n",
            " 2   Item_Fat_Content           8523 non-null   object \n",
            " 3   Item_Visibility            8523 non-null   float64\n",
            " 4   Item_Type                  8523 non-null   object \n",
            " 5   Item_MRP                   8523 non-null   float64\n",
            " 6   Outlet_Identifier          8523 non-null   object \n",
            " 7   Outlet_Establishment_Year  8523 non-null   int64  \n",
            " 8   Outlet_Size                6113 non-null   object \n",
            " 9   Outlet_Location_Type       8523 non-null   object \n",
            " 10  Outlet_Type                8523 non-null   object \n",
            " 11  Item_Outlet_Sales          8523 non-null   float64\n",
            "dtypes: float64(4), int64(1), object(7)\n",
            "memory usage: 799.2+ KB\n"
          ]
        }
      ],
      "source": [
        "data.info()"
      ]
    },
    {
      "cell_type": "code",
      "execution_count": null,
      "metadata": {
        "id": "_SpI8dGhqJWe",
        "outputId": "6a5cf9d0-d897-4a77-8b8c-863b5d6571b9"
      },
      "outputs": [
        {
          "data": {
            "text/plain": [
              "Item_Identifier                 0\n",
              "Item_Weight                  1463\n",
              "Item_Fat_Content                0\n",
              "Item_Visibility                 0\n",
              "Item_Type                       0\n",
              "Item_MRP                        0\n",
              "Outlet_Identifier               0\n",
              "Outlet_Establishment_Year       0\n",
              "Outlet_Size                  2410\n",
              "Outlet_Location_Type            0\n",
              "Outlet_Type                     0\n",
              "Item_Outlet_Sales               0\n",
              "dtype: int64"
            ]
          },
          "execution_count": 4,
          "metadata": {},
          "output_type": "execute_result"
        }
      ],
      "source": [
        "# check for the null values and explore shape as well\n",
        "\n",
        "data.isna().sum()"
      ]
    },
    {
      "cell_type": "markdown",
      "metadata": {
        "id": "u6HkJZQgqJWg"
      },
      "source": [
        "There are only two variables with missing values – Item_Weight and Outlet_Size.\n",
        "\n",
        "Since Item_Weight is a continuous variable, we can use either mean or median to impute the missing values. On the other hand, Outlet_Size is a categorical variable and hence we will replace the missing values by the mode of the column. You can try different methods to impute missing values as well.\n",
        "\n"
      ]
    },
    {
      "cell_type": "code",
      "execution_count": null,
      "metadata": {
        "id": "VqtLdZuPcRuZ",
        "outputId": "a2b8d85f-f905-47a5-b9d1-5fc19f935ad6"
      },
      "outputs": [
        {
          "data": {
            "text/plain": [
              "(8523, 12)"
            ]
          },
          "execution_count": 5,
          "metadata": {},
          "output_type": "execute_result"
        }
      ],
      "source": [
        "data.shape"
      ]
    },
    {
      "cell_type": "code",
      "execution_count": null,
      "metadata": {
        "id": "TYr8hB1hqJWl"
      },
      "outputs": [],
      "source": [
        "# impute missing values in item weight by mean\n",
        "data[\"Item_Weight\"].fillna(data[\"Item_Weight\"].mean(),inplace=True)\n",
        "\n",
        "# impute outlet size in training data by mode\n",
        "data[\"Outlet_Size\"].fillna(data[\"Outlet_Size\"].mode()[0],inplace=True)\n"
      ]
    },
    {
      "cell_type": "code",
      "execution_count": null,
      "metadata": {
        "id": "Bt7-CzSJqJWj",
        "scrolled": true,
        "outputId": "3cd702a7-94bf-40fc-d468-6b4fde460e8e"
      },
      "outputs": [
        {
          "data": {
            "image/png": "[encoded data removed]",
            "text/plain": [
              "<Figure size 640x480 with 1 Axes>"
            ]
          },
          "metadata": {},
          "output_type": "display_data"
        }
      ],
      "source": [
        "#create box plot on Item weight\n",
        "plt.boxplot(data[\"Item_Weight\"])\n",
        "plt.show()\n"
      ]
    },
    {
      "cell_type": "code",
      "execution_count": null,
      "metadata": {
        "id": "Wooxf2dncRue",
        "outputId": "d4c58778-89b7-4b78-f0de-7a59add8f3b7"
      },
      "outputs": [
        {
          "data": {
            "text/html": [
              "<div>\n",
              "<style scoped>\n",
              "    .dataframe tbody tr th:only-of-type {\n",
              "        vertical-align: middle;\n",
              "    }\n",
              "\n",
              "    .dataframe tbody tr th {\n",
              "        vertical-align: top;\n",
              "    }\n",
              "\n",
              "    .dataframe thead th {\n",
              "        text-align: right;\n",
              "    }\n",
              "</style>\n",
              "<table border=\"1\" class=\"dataframe\">\n",
              "  <thead>\n",
              "    <tr style=\"text-align: right;\">\n",
              "      <th></th>\n",
              "      <th>Item_Identifier</th>\n",
              "      <th>Item_Weight</th>\n",
              "      <th>Item_Fat_Content</th>\n",
              "      <th>Item_Visibility</th>\n",
              "      <th>Item_Type</th>\n",
              "      <th>Item_MRP</th>\n",
              "      <th>Outlet_Identifier</th>\n",
              "      <th>Outlet_Establishment_Year</th>\n",
              "      <th>Outlet_Size</th>\n",
              "      <th>Outlet_Location_Type</th>\n",
              "      <th>Outlet_Type</th>\n",
              "      <th>Item_Outlet_Sales</th>\n",
              "    </tr>\n",
              "  </thead>\n",
              "  <tbody>\n",
              "    <tr>\n",
              "      <th>0</th>\n",
              "      <td>FDA15</td>\n",
              "      <td>9.30</td>\n",
              "      <td>Low Fat</td>\n",
              "      <td>0.016047</td>\n",
              "      <td>Dairy</td>\n",
              "      <td>249.8092</td>\n",
              "      <td>OUT049</td>\n",
              "      <td>1999</td>\n",
              "      <td>Medium</td>\n",
              "      <td>Tier 1</td>\n",
              "      <td>Supermarket Type1</td>\n",
              "      <td>3735.1380</td>\n",
              "    </tr>\n",
              "    <tr>\n",
              "      <th>1</th>\n",
              "      <td>DRC01</td>\n",
              "      <td>5.92</td>\n",
              "      <td>Regular</td>\n",
              "      <td>0.019278</td>\n",
              "      <td>Soft Drinks</td>\n",
              "      <td>48.2692</td>\n",
              "      <td>OUT018</td>\n",
              "      <td>2009</td>\n",
              "      <td>Medium</td>\n",
              "      <td>Tier 3</td>\n",
              "      <td>Supermarket Type2</td>\n",
              "      <td>443.4228</td>\n",
              "    </tr>\n",
              "    <tr>\n",
              "      <th>2</th>\n",
              "      <td>FDN15</td>\n",
              "      <td>17.50</td>\n",
              "      <td>Low Fat</td>\n",
              "      <td>0.016760</td>\n",
              "      <td>Meat</td>\n",
              "      <td>141.6180</td>\n",
              "      <td>OUT049</td>\n",
              "      <td>1999</td>\n",
              "      <td>Medium</td>\n",
              "      <td>Tier 1</td>\n",
              "      <td>Supermarket Type1</td>\n",
              "      <td>2097.2700</td>\n",
              "    </tr>\n",
              "    <tr>\n",
              "      <th>3</th>\n",
              "      <td>FDX07</td>\n",
              "      <td>19.20</td>\n",
              "      <td>Regular</td>\n",
              "      <td>0.000000</td>\n",
              "      <td>Fruits and Vegetables</td>\n",
              "      <td>182.0950</td>\n",
              "      <td>OUT010</td>\n",
              "      <td>1998</td>\n",
              "      <td>Medium</td>\n",
              "      <td>Tier 3</td>\n",
              "      <td>Grocery Store</td>\n",
              "      <td>732.3800</td>\n",
              "    </tr>\n",
              "    <tr>\n",
              "      <th>4</th>\n",
              "      <td>NCD19</td>\n",
              "      <td>8.93</td>\n",
              "      <td>Low Fat</td>\n",
              "      <td>0.000000</td>\n",
              "      <td>Household</td>\n",
              "      <td>53.8614</td>\n",
              "      <td>OUT013</td>\n",
              "      <td>1987</td>\n",
              "      <td>High</td>\n",
              "      <td>Tier 3</td>\n",
              "      <td>Supermarket Type1</td>\n",
              "      <td>994.7052</td>\n",
              "    </tr>\n",
              "  </tbody>\n",
              "</table>\n",
              "</div>"
            ],
            "text/plain": [
              "  Item_Identifier  Item_Weight Item_Fat_Content  Item_Visibility  \\\n",
              "0           FDA15         9.30          Low Fat         0.016047   \n",
              "1           DRC01         5.92          Regular         0.019278   \n",
              "2           FDN15        17.50          Low Fat         0.016760   \n",
              "3           FDX07        19.20          Regular         0.000000   \n",
              "4           NCD19         8.93          Low Fat         0.000000   \n",
              "\n",
              "               Item_Type  Item_MRP Outlet_Identifier  \\\n",
              "0                  Dairy  249.8092            OUT049   \n",
              "1            Soft Drinks   48.2692            OUT018   \n",
              "2                   Meat  141.6180            OUT049   \n",
              "3  Fruits and Vegetables  182.0950            OUT010   \n",
              "4              Household   53.8614            OUT013   \n",
              "\n",
              "   Outlet_Establishment_Year Outlet_Size Outlet_Location_Type  \\\n",
              "0                       1999      Medium               Tier 1   \n",
              "1                       2009      Medium               Tier 3   \n",
              "2                       1999      Medium               Tier 1   \n",
              "3                       1998      Medium               Tier 3   \n",
              "4                       1987        High               Tier 3   \n",
              "\n",
              "         Outlet_Type  Item_Outlet_Sales  \n",
              "0  Supermarket Type1          3735.1380  \n",
              "1  Supermarket Type2           443.4228  \n",
              "2  Supermarket Type1          2097.2700  \n",
              "3      Grocery Store           732.3800  \n",
              "4  Supermarket Type1           994.7052  "
            ]
          },
          "execution_count": 8,
          "metadata": {},
          "output_type": "execute_result"
        }
      ],
      "source": [
        "data.head()"
      ]
    },
    {
      "cell_type": "code",
      "execution_count": null,
      "metadata": {
        "id": "T0hHfDC4qJWp",
        "outputId": "1894f768-d6cf-4f6e-bb85-78f1c4423fa4"
      },
      "outputs": [
        {
          "data": {
            "text/plain": [
              "Item_Identifier              0\n",
              "Item_Weight                  0\n",
              "Item_Fat_Content             0\n",
              "Item_Visibility              0\n",
              "Item_Type                    0\n",
              "Item_MRP                     0\n",
              "Outlet_Identifier            0\n",
              "Outlet_Establishment_Year    0\n",
              "Outlet_Size                  0\n",
              "Outlet_Location_Type         0\n",
              "Outlet_Type                  0\n",
              "Item_Outlet_Sales            0\n",
              "dtype: int64"
            ]
          },
          "execution_count": 9,
          "metadata": {},
          "output_type": "execute_result"
        }
      ],
      "source": [
        "# check for the null values again\n",
        "data.isna().sum()"
      ]
    },
    {
      "cell_type": "markdown",
      "metadata": {
        "id": "4lz_qEE-qJWr"
      },
      "source": [
        "### Explore the categorical columns"
      ]
    },
    {
      "cell_type": "code",
      "execution_count": null,
      "metadata": {
        "id": "BCkdKQtVqJW1",
        "outputId": "4bf98ce9-071c-472b-f4d8-a4aa11b892cf"
      },
      "outputs": [
        {
          "data": {
            "text/plain": [
              "Item_Identifier               object\n",
              "Item_Weight                  float64\n",
              "Item_Fat_Content              object\n",
              "Item_Visibility              float64\n",
              "Item_Type                     object\n",
              "Item_MRP                     float64\n",
              "Outlet_Identifier             object\n",
              "Outlet_Establishment_Year      int64\n",
              "Outlet_Size                   object\n",
              "Outlet_Location_Type          object\n",
              "Outlet_Type                   object\n",
              "Item_Outlet_Sales            float64\n",
              "dtype: object"
            ]
          },
          "execution_count": 10,
          "metadata": {},
          "output_type": "execute_result"
        }
      ],
      "source": [
        "data.dtypes"
      ]
    },
    {
      "cell_type": "markdown",
      "metadata": {
        "id": "ogI_N9tWqJW3"
      },
      "source": [
        "Encode the categorical variables\n",
        "\n",
        "To check the categorical variables in the data, you can use the train_data.dtypes() function. This will give you a list of the data types against each variable. For the BigMart sales data, we have the following categorical variable –\n",
        "\n",
        "Item_Fat_Content\n",
        "\n",
        "Item_Type,\n",
        "\n",
        "Outlet_Identifier\n",
        "\n",
        "Outlet_Size,\n",
        "\n",
        "Outlet_Location_Type, and\n",
        "\n",
        "Outlet_Type"
      ]
    },
    {
      "cell_type": "code",
      "execution_count": null,
      "metadata": {
        "id": "fBAmgXo_qJW5"
      },
      "outputs": [],
      "source": [
        "from sklearn.preprocessing import LabelEncoder\n",
        "categorical_cols = ['Item_Fat_Content',\n",
        "                    'Item_Type',\n",
        "                    'Outlet_Identifier',\n",
        "                    'Outlet_Size',\n",
        "                    'Outlet_Location_Type',\n",
        "                    'Outlet_Type']\n",
        "le = LabelEncoder()\n",
        "# apply le on categorical feature columns\n",
        "data[categorical_cols] = data[categorical_cols].apply(lambda col: le.fit_transform(col))"
      ]
    },
    {
      "cell_type": "markdown",
      "metadata": {
        "id": "56nRkKciyiu2"
      },
      "source": [
        "Explore categorical columns after label encoding\n"
      ]
    },
    {
      "cell_type": "code",
      "execution_count": null,
      "metadata": {
        "id": "Fg6juqAMcRui",
        "outputId": "ab83de9d-4920-4e73-fc9a-9f3da3006296"
      },
      "outputs": [
        {
          "data": {
            "text/html": [
              "<div>\n",
              "<style scoped>\n",
              "    .dataframe tbody tr th:only-of-type {\n",
              "        vertical-align: middle;\n",
              "    }\n",
              "\n",
              "    .dataframe tbody tr th {\n",
              "        vertical-align: top;\n",
              "    }\n",
              "\n",
              "    .dataframe thead th {\n",
              "        text-align: right;\n",
              "    }\n",
              "</style>\n",
              "<table border=\"1\" class=\"dataframe\">\n",
              "  <thead>\n",
              "    <tr style=\"text-align: right;\">\n",
              "      <th></th>\n",
              "      <th>Item_Identifier</th>\n",
              "      <th>Item_Weight</th>\n",
              "      <th>Item_Fat_Content</th>\n",
              "      <th>Item_Visibility</th>\n",
              "      <th>Item_Type</th>\n",
              "      <th>Item_MRP</th>\n",
              "      <th>Outlet_Identifier</th>\n",
              "      <th>Outlet_Establishment_Year</th>\n",
              "      <th>Outlet_Size</th>\n",
              "      <th>Outlet_Location_Type</th>\n",
              "      <th>Outlet_Type</th>\n",
              "      <th>Item_Outlet_Sales</th>\n",
              "    </tr>\n",
              "  </thead>\n",
              "  <tbody>\n",
              "    <tr>\n",
              "      <th>0</th>\n",
              "      <td>FDA15</td>\n",
              "      <td>9.30</td>\n",
              "      <td>1</td>\n",
              "      <td>0.016047</td>\n",
              "      <td>4</td>\n",
              "      <td>249.8092</td>\n",
              "      <td>9</td>\n",
              "      <td>1999</td>\n",
              "      <td>1</td>\n",
              "      <td>0</td>\n",
              "      <td>1</td>\n",
              "      <td>3735.1380</td>\n",
              "    </tr>\n",
              "    <tr>\n",
              "      <th>1</th>\n",
              "      <td>DRC01</td>\n",
              "      <td>5.92</td>\n",
              "      <td>2</td>\n",
              "      <td>0.019278</td>\n",
              "      <td>14</td>\n",
              "      <td>48.2692</td>\n",
              "      <td>3</td>\n",
              "      <td>2009</td>\n",
              "      <td>1</td>\n",
              "      <td>2</td>\n",
              "      <td>2</td>\n",
              "      <td>443.4228</td>\n",
              "    </tr>\n",
              "    <tr>\n",
              "      <th>2</th>\n",
              "      <td>FDN15</td>\n",
              "      <td>17.50</td>\n",
              "      <td>1</td>\n",
              "      <td>0.016760</td>\n",
              "      <td>10</td>\n",
              "      <td>141.6180</td>\n",
              "      <td>9</td>\n",
              "      <td>1999</td>\n",
              "      <td>1</td>\n",
              "      <td>0</td>\n",
              "      <td>1</td>\n",
              "      <td>2097.2700</td>\n",
              "    </tr>\n",
              "    <tr>\n",
              "      <th>3</th>\n",
              "      <td>FDX07</td>\n",
              "      <td>19.20</td>\n",
              "      <td>2</td>\n",
              "      <td>0.000000</td>\n",
              "      <td>6</td>\n",
              "      <td>182.0950</td>\n",
              "      <td>0</td>\n",
              "      <td>1998</td>\n",
              "      <td>1</td>\n",
              "      <td>2</td>\n",
              "      <td>0</td>\n",
              "      <td>732.3800</td>\n",
              "    </tr>\n",
              "    <tr>\n",
              "      <th>4</th>\n",
              "      <td>NCD19</td>\n",
              "      <td>8.93</td>\n",
              "      <td>1</td>\n",
              "      <td>0.000000</td>\n",
              "      <td>9</td>\n",
              "      <td>53.8614</td>\n",
              "      <td>1</td>\n",
              "      <td>1987</td>\n",
              "      <td>0</td>\n",
              "      <td>2</td>\n",
              "      <td>1</td>\n",
              "      <td>994.7052</td>\n",
              "    </tr>\n",
              "  </tbody>\n",
              "</table>\n",
              "</div>"
            ],
            "text/plain": [
              "  Item_Identifier  Item_Weight  Item_Fat_Content  Item_Visibility  Item_Type  \\\n",
              "0           FDA15         9.30                 1         0.016047          4   \n",
              "1           DRC01         5.92                 2         0.019278         14   \n",
              "2           FDN15        17.50                 1         0.016760         10   \n",
              "3           FDX07        19.20                 2         0.000000          6   \n",
              "4           NCD19         8.93                 1         0.000000          9   \n",
              "\n",
              "   Item_MRP  Outlet_Identifier  Outlet_Establishment_Year  Outlet_Size  \\\n",
              "0  249.8092                  9                       1999            1   \n",
              "1   48.2692                  3                       2009            1   \n",
              "2  141.6180                  9                       1999            1   \n",
              "3  182.0950                  0                       1998            1   \n",
              "4   53.8614                  1                       1987            0   \n",
              "\n",
              "   Outlet_Location_Type  Outlet_Type  Item_Outlet_Sales  \n",
              "0                     0            1          3735.1380  \n",
              "1                     2            2           443.4228  \n",
              "2                     0            1          2097.2700  \n",
              "3                     2            0           732.3800  \n",
              "4                     2            1           994.7052  "
            ]
          },
          "execution_count": 12,
          "metadata": {},
          "output_type": "execute_result"
        }
      ],
      "source": [
        "data.head()"
      ]
    },
    {
      "cell_type": "markdown",
      "metadata": {
        "id": "DPZU2ApIqJXI"
      },
      "source": [
        "### Scale the data:\n",
        "\n",
        "So far we have taken care of the missing values and the categorical (string) variables in the data. Next we will work with the continuous variables. Often the continuous variables in the data have different scales, for instance, a variable V1 can have a range from 0 to 1 while another variable can have a range from 0-1000.\n",
        "\n",
        "Based on the type of model you are building, you will have to normalize the data in such a way that the range of all the variables is almost similar"
      ]
    },
    {
      "cell_type": "code",
      "execution_count": null,
      "metadata": {
        "id": "GR0CL-OnqJXL"
      },
      "outputs": [],
      "source": [
        "#apply standard scaler on Item MRP column only\n",
        "from sklearn.preprocessing import StandardScaler\n",
        "scale=StandardScaler()\n",
        "data[\"Item_MRP\"]=scale.fit_transform(data[[\"Item_MRP\"]])\n"
      ]
    },
    {
      "cell_type": "markdown",
      "metadata": {
        "id": "QhJivIp5qJXN"
      },
      "source": [
        "### Model Building\n",
        "\n",
        "Now that we are done with the basic pre-processing steps, we can go ahead and build simple machine learning models over this data. We will try two models here – Linear Regression to predict the sales.\n",
        "\n",
        "To compare the performance of the models, we will create a validation set (or test set). Here I have randomly split the data into two parts using the train_test_split() function, such that the validation set holds 25% of the data points while the train set has 75%"
      ]
    },
    {
      "cell_type": "code",
      "execution_count": null,
      "metadata": {
        "id": "_oe1rzLgqJXO",
        "outputId": "e8eb6940-a0c5-4005-9f3b-769505af712f"
      },
      "outputs": [
        {
          "name": "stdout",
          "output_type": "stream",
          "text": [
            "(6392, 10)\n",
            "(2131, 10)\n"
          ]
        }
      ],
      "source": [
        "# importing libraries for model building\n",
        "from sklearn.model_selection import train_test_split\n",
        "\n",
        "# separate the independent and target variable\n",
        "x=data.drop(['Item_Outlet_Sales','Item_Identifier'],axis=1)\n",
        "y=data[\"Item_Outlet_Sales\"]\n",
        "\n",
        "# randomly split the data\n",
        "x_train,x_test,y_train,y_test=train_test_split(x,y,test_size=0.25,random_state=1)\n",
        "\n",
        "# shape of train and test splits\n",
        "print(x_train.shape)\n",
        "print(x_test.shape)"
      ]
    },
    {
      "cell_type": "code",
      "execution_count": null,
      "metadata": {
        "id": "O2xu6phecRul"
      },
      "outputs": [],
      "source": []
    },
    {
      "cell_type": "markdown",
      "metadata": {
        "id": "fuGOLY6kzKgn"
      },
      "source": [
        "GO ahead and perfom model building using Multiple methods. Feel Free to perform any additional preprocessing"
      ]
    },
    {
      "cell_type": "markdown",
      "metadata": {
        "id": "mWjBFDiRzSzo"
      },
      "source": [
        "# Model Building"
      ]
    },
    {
      "cell_type": "markdown",
      "metadata": {
        "id": "yMusx9uWcRum"
      },
      "source": [
        "# Linear Regression"
      ]
    },
    {
      "cell_type": "code",
      "execution_count": null,
      "metadata": {
        "id": "QEMidfFDcRum"
      },
      "outputs": [],
      "source": [
        "from sklearn.linear_model import LinearRegression\n",
        "regressor= LinearRegression()\n",
        "regressor.fit(x_train, y_train)\n",
        "y_pred_train_lr=regressor.predict(x_train)\n",
        "y_pred_test_lr=regressor.predict(x_test)"
      ]
    },
    {
      "cell_type": "code",
      "execution_count": null,
      "metadata": {
        "id": "RjBXqzlHcRum",
        "outputId": "c782127d-64a8-435b-d4c7-09710c4b4d99"
      },
      "outputs": [
        {
          "data": {
            "text/plain": [
              "0.5106994251946155"
            ]
          },
          "execution_count": 16,
          "metadata": {},
          "output_type": "execute_result"
        }
      ],
      "source": [
        "#Accuracy on train data\n",
        "acc_train_linear_regression=regressor.score(x_train,y_train)\n",
        "acc_train_linear_regression"
      ]
    },
    {
      "cell_type": "code",
      "execution_count": null,
      "metadata": {
        "id": "3lo5dvxEcRun",
        "outputId": "ad6fcbd2-3490-4aed-ec12-e258e50d54dd"
      },
      "outputs": [
        {
          "data": {
            "text/plain": [
              "0.508092069305689"
            ]
          },
          "execution_count": 17,
          "metadata": {},
          "output_type": "execute_result"
        }
      ],
      "source": [
        "#Accuracy on test data\n",
        "acc_test_linear_regression=regressor.score(x_test,y_test)\n",
        "acc_test_linear_regression"
      ]
    },
    {
      "cell_type": "code",
      "execution_count": null,
      "metadata": {
        "id": "gtqMTCA1cRun",
        "outputId": "15d9328b-1eea-4b3b-ebea-b14a0c37cb4d"
      },
      "outputs": [
        {
          "name": "stdout",
          "output_type": "stream",
          "text": [
            "Model Evaluation for Linear Regression\n",
            "-----------------------Model Evaluation for training data --------------------------\n",
            "The Mean Squared Error for Linear regression is:        1427235.1043677498\n",
            "The Mean Absolute Error for Linear regression is:       894.4359325443902\n",
            "The Root Mean Squared Error for Linear Regression is:   1194.669454019709\n",
            "\n",
            "---------------------Model Evaluation for testing data ---------------------------\n",
            "The Mean Squared Error for Linear regression is:        1424532.4264135023\n",
            "The Mean Absolute Error for Linear regression is:       906.5330785806659\n",
            "The Root Mean Squared Error for Linear Regression is:   1193.5377775393213\n"
          ]
        }
      ],
      "source": [
        "from sklearn.metrics import mean_squared_error,mean_absolute_error,r2_score\n",
        "\n",
        "print(\"Model Evaluation for Linear Regression\")\n",
        "print(\"-----------------------Model Evaluation for training data --------------------------\")\n",
        "print(\"The Mean Squared Error for Linear regression is:       \",mean_squared_error(y_train,y_pred_train_lr))\n",
        "print(\"The Mean Absolute Error for Linear regression is:      \",mean_absolute_error(y_train,y_pred_train_lr))\n",
        "print(\"The Root Mean Squared Error for Linear Regression is:  \",np.sqrt(mean_squared_error(y_train,y_pred_train_lr)))\n",
        "print(\"\\n---------------------Model Evaluation for testing data ---------------------------\")\n",
        "print(\"The Mean Squared Error for Linear regression is:       \",mean_squared_error(y_test,y_pred_test_lr))\n",
        "print(\"The Mean Absolute Error for Linear regression is:      \",mean_absolute_error(y_test,y_pred_test_lr))\n",
        "print(\"The Root Mean Squared Error for Linear Regression is:  \",np.sqrt(mean_squared_error(y_test,y_pred_test_lr)))"
      ]
    },
    {
      "cell_type": "code",
      "execution_count": null,
      "metadata": {
        "id": "uPE6VPVncRun"
      },
      "outputs": [],
      "source": [
        "#Checking the significant features\n"
      ]
    },
    {
      "cell_type": "markdown",
      "metadata": {
        "id": "7hl8Vqc6cRuo"
      },
      "source": [
        "# Ridge Regression"
      ]
    },
    {
      "cell_type": "code",
      "execution_count": null,
      "metadata": {
        "id": "KEY2EU3icRuo"
      },
      "outputs": [],
      "source": []
    },
    {
      "cell_type": "code",
      "execution_count": null,
      "metadata": {
        "id": "LYHAJT_bcRuo"
      },
      "outputs": [],
      "source": [
        "from sklearn.linear_model import Ridge\n",
        "RR =Ridge(alpha=0.1)\n",
        "RR.fit(x_train,y_train)\n",
        "y_pred_train_rr=RR.predict(x_train)\n",
        "y_pred_test_rr=RR.predict(x_test)"
      ]
    },
    {
      "cell_type": "code",
      "execution_count": null,
      "metadata": {
        "id": "MYq01tZjcRup",
        "outputId": "a97a0d2f-d87c-4ee6-8042-776ab4f86893"
      },
      "outputs": [
        {
          "data": {
            "text/plain": [
              "0.5106993491458502"
            ]
          },
          "execution_count": 21,
          "metadata": {},
          "output_type": "execute_result"
        }
      ],
      "source": [
        "#Accuracy on train data\n",
        "acc_train_Ridge_regression=RR.score(x_train,y_train)\n",
        "acc_train_Ridge_regression"
      ]
    },
    {
      "cell_type": "code",
      "execution_count": null,
      "metadata": {
        "id": "JFX4229TcRup",
        "outputId": "1156b36c-48dc-4d19-aaca-845fc1341220"
      },
      "outputs": [
        {
          "data": {
            "text/plain": [
              "0.5081006178260239"
            ]
          },
          "execution_count": 22,
          "metadata": {},
          "output_type": "execute_result"
        }
      ],
      "source": [
        "#Accuracy on test data\n",
        "acc_test_Ridge_regression=RR.score(x_test,y_test)\n",
        "acc_test_Ridge_regression"
      ]
    },
    {
      "cell_type": "code",
      "execution_count": null,
      "metadata": {
        "id": "6a7OrgFXcRup",
        "outputId": "7b2d7721-aee1-4858-9675-40e89980cbae"
      },
      "outputs": [
        {
          "name": "stdout",
          "output_type": "stream",
          "text": [
            "Model Evaluation for Ridge Regression\n",
            "-----------------------Model Evaluation for training data --------------------------\n",
            "The Mean Squared Error for ridge regression is:        1427235.3261935003\n",
            "The Mean Absolute Error for ridge regression is:       894.4350061104182\n",
            "The Root Mean Squared Error for Ridge Regression is:   1194.6695468595071\n",
            "\n",
            "---------------------Model Evaluation for testing data ---------------------------\n",
            "The Mean Squared Error for ridge regression is:        1424507.6704710687\n",
            "The Mean Absolute Error for ridge regression is:       906.5204136308723\n",
            "The Root Mean Squared Error for Ridge Regression is:   1193.5274066694358\n"
          ]
        }
      ],
      "source": [
        "print(\"Model Evaluation for Ridge Regression\")\n",
        "print(\"-----------------------Model Evaluation for training data --------------------------\")\n",
        "print(\"The Mean Squared Error for ridge regression is:       \",mean_squared_error(y_train,y_pred_train_rr))\n",
        "print(\"The Mean Absolute Error for ridge regression is:      \",mean_absolute_error(y_train,y_pred_train_rr))\n",
        "print(\"The Root Mean Squared Error for Ridge Regression is:  \",np.sqrt(mean_squared_error(y_train,y_pred_train_rr)))\n",
        "print(\"\\n---------------------Model Evaluation for testing data ---------------------------\")\n",
        "print(\"The Mean Squared Error for ridge regression is:       \",mean_squared_error(y_test,y_pred_test_rr))\n",
        "print(\"The Mean Absolute Error for ridge regression is:      \",mean_absolute_error(y_test,y_pred_test_rr))\n",
        "print(\"The Root Mean Squared Error for Ridge Regression is:  \",np.sqrt(mean_squared_error(y_test,y_pred_test_rr)))\n"
      ]
    },
    {
      "cell_type": "markdown",
      "metadata": {
        "id": "Vioq6BUIcRuq"
      },
      "source": [
        "# Ridge CV"
      ]
    },
    {
      "cell_type": "code",
      "execution_count": null,
      "metadata": {
        "id": "fGJcPR_IcRuq"
      },
      "outputs": [],
      "source": [
        "from sklearn.model_selection import RepeatedKFold\n",
        "from sklearn.linear_model import RidgeCV\n",
        "from numpy import arange\n",
        "#instantiate repeated k-fold\n",
        "rcv = RepeatedKFold(n_splits=10,n_repeats=3,random_state=42)\n",
        "\n",
        "#instantiate ridgecv\n",
        "ridgecv = RidgeCV(alphas=arange(0.1, 1, 0.01), cv=rcv, scoring='neg_mean_absolute_error')\n",
        "\n",
        "#fitting ridge model\n",
        "ridgecv.fit(x_train, y_train)\n",
        "y_pred_train_rcv=ridgecv.predict(x_train)\n",
        "y_pred_test_rcv=ridgecv.predict(x_test)"
      ]
    },
    {
      "cell_type": "code",
      "execution_count": null,
      "metadata": {
        "id": "xtvPY6D6cRur",
        "outputId": "bf94c864-15ee-4c62-b294-ea88c7d5ff00"
      },
      "outputs": [
        {
          "data": {
            "text/plain": [
              "0.5106951668179072"
            ]
          },
          "execution_count": 25,
          "metadata": {},
          "output_type": "execute_result"
        }
      ],
      "source": [
        "#accuracy on train data\n",
        "\n",
        "acc_train_ridgecv=ridgecv.score(x_train,y_train)\n",
        "acc_train_ridgecv"
      ]
    },
    {
      "cell_type": "code",
      "execution_count": null,
      "metadata": {
        "id": "orSMy8zscRu2",
        "outputId": "0481b315-7d1d-4329-ba21-fcee446cb068"
      },
      "outputs": [
        {
          "data": {
            "text/plain": [
              "0.5081521465231184"
            ]
          },
          "execution_count": 26,
          "metadata": {},
          "output_type": "execute_result"
        }
      ],
      "source": [
        "#Accuracy on test data\n",
        "acc_test_ridgecv=ridgecv.score(x_test,y_test)\n",
        "acc_test_ridgecv"
      ]
    },
    {
      "cell_type": "code",
      "execution_count": null,
      "metadata": {
        "id": "U4qs_4itcRu3",
        "outputId": "e6fab3a3-e447-4eda-d522-39330afb6b50"
      },
      "outputs": [
        {
          "name": "stdout",
          "output_type": "stream",
          "text": [
            "Model Evaluation for Ridge CV\n",
            "-----------------------Model Evaluation for training data --------------------------\n",
            "The Mean Squared Error for ridge CV is:        1427247.525576795\n",
            "The Mean Absolute Error for ridge CV is:       894.4344359730085\n",
            "The Root Mean Squared Error for Ridge CV is:   1194.6746526049656\n",
            "\n",
            "---------------------Model Evaluation for testing data ---------------------------\n",
            "The Mean Squared Error for ridge CV is:        1424358.44681493\n",
            "The Mean Absolute Error for ridge CV is:       906.4426483865167\n",
            "The Root Mean Squared Error for Ridge CV is:   1193.464891320616\n"
          ]
        }
      ],
      "source": [
        "print(\"Model Evaluation for Ridge CV\")\n",
        "print(\"-----------------------Model Evaluation for training data --------------------------\")\n",
        "print(\"The Mean Squared Error for ridge CV is:       \",mean_squared_error(y_train,y_pred_train_rcv))\n",
        "print(\"The Mean Absolute Error for ridge CV is:      \",mean_absolute_error(y_train,y_pred_train_rcv))\n",
        "print(\"The Root Mean Squared Error for Ridge CV is:  \",np.sqrt(mean_squared_error(y_train,y_pred_train_rcv)))\n",
        "print(\"\\n---------------------Model Evaluation for testing data ---------------------------\")\n",
        "print(\"The Mean Squared Error for ridge CV is:       \",mean_squared_error(y_test,y_pred_test_rcv))\n",
        "print(\"The Mean Absolute Error for ridge CV is:      \",mean_absolute_error(y_test,y_pred_test_rcv))\n",
        "print(\"The Root Mean Squared Error for Ridge CV is:  \",np.sqrt(mean_squared_error(y_test,y_pred_test_rcv)))\n"
      ]
    },
    {
      "cell_type": "markdown",
      "metadata": {
        "id": "gpF7SEBocRu3"
      },
      "source": [
        "# Lasso Regression"
      ]
    },
    {
      "cell_type": "code",
      "execution_count": null,
      "metadata": {
        "id": "DrFQwLUAcRu4"
      },
      "outputs": [],
      "source": []
    },
    {
      "cell_type": "code",
      "execution_count": null,
      "metadata": {
        "id": "ihIacE5-cRu5"
      },
      "outputs": [],
      "source": [
        "from sklearn.linear_model import Lasso\n",
        "lr=Lasso()\n",
        "lr.fit(x_train,y_train)\n",
        "y_pred_train_lr=lr.predict(x_train)\n",
        "y_pred_test_lr=lr.predict(x_test)\n"
      ]
    },
    {
      "cell_type": "code",
      "execution_count": null,
      "metadata": {
        "id": "cRJ527VNcRu5",
        "outputId": "8fa5b7bc-fccc-4987-8f8f-ff5d6f9c08fd"
      },
      "outputs": [
        {
          "data": {
            "text/plain": [
              "0.5105570279135692"
            ]
          },
          "execution_count": 29,
          "metadata": {},
          "output_type": "execute_result"
        }
      ],
      "source": [
        "#Accuracy on train data\n",
        "acc_train_lasso_reg=lr.score(x_train,y_train)\n",
        "acc_train_lasso_reg"
      ]
    },
    {
      "cell_type": "code",
      "execution_count": null,
      "metadata": {
        "id": "jaemoLbVcRu5",
        "outputId": "6c8d2052-0c83-4fee-d14c-76053f107828"
      },
      "outputs": [
        {
          "data": {
            "text/plain": [
              "0.5082275779553627"
            ]
          },
          "execution_count": 30,
          "metadata": {},
          "output_type": "execute_result"
        }
      ],
      "source": [
        "#Accuracy on test data\n",
        "acc_test_lasso_reg=lr.score(x_test,y_test)\n",
        "acc_test_lasso_reg"
      ]
    },
    {
      "cell_type": "code",
      "execution_count": null,
      "metadata": {
        "id": "5HZCSs7JcRu6",
        "outputId": "e7913e96-6874-492d-9c88-137a96af51d5"
      },
      "outputs": [
        {
          "name": "stdout",
          "output_type": "stream",
          "text": [
            "Model Evaluation for Lasso Regression\n",
            "-----------------------Model Evaluation for training data --------------------------\n",
            "The Mean Squared Error for lasso regression is:        1427650.4613257027\n",
            "The Mean Absolute Error for lasso regression is:       894.4864531267287\n",
            "The Root Mean Squared Error for lasso Regression is:   1194.8432789808471\n",
            "\n",
            "---------------------Model Evaluation for testing data ---------------------------\n",
            "The Mean Squared Error for lasso regression is:        1424140.0024384565\n",
            "The Mean Absolute Error for lasso regression is:       906.2457187914315\n",
            "The Root Mean Squared Error for lasso Regression is:   1193.373370927329\n"
          ]
        }
      ],
      "source": [
        "print(\"Model Evaluation for Lasso Regression\")\n",
        "print(\"-----------------------Model Evaluation for training data --------------------------\")\n",
        "print(\"The Mean Squared Error for lasso regression is:       \",mean_squared_error(y_train,y_pred_train_lr))\n",
        "print(\"The Mean Absolute Error for lasso regression is:      \",mean_absolute_error(y_train,y_pred_train_lr))\n",
        "print(\"The Root Mean Squared Error for lasso Regression is:  \",np.sqrt(mean_squared_error(y_train,y_pred_train_lr)))\n",
        "print(\"\\n---------------------Model Evaluation for testing data ---------------------------\")\n",
        "print(\"The Mean Squared Error for lasso regression is:       \",mean_squared_error(y_test,y_pred_test_lr))\n",
        "print(\"The Mean Absolute Error for lasso regression is:      \",mean_absolute_error(y_test,y_pred_test_lr))\n",
        "print(\"The Root Mean Squared Error for lasso Regression is:  \",np.sqrt(mean_squared_error(y_test,y_pred_test_lr)))\n"
      ]
    },
    {
      "cell_type": "markdown",
      "metadata": {
        "id": "z933rVLbcRu6"
      },
      "source": [
        "# Lasso CV"
      ]
    },
    {
      "cell_type": "code",
      "execution_count": null,
      "metadata": {
        "id": "yClhcApNcRu6"
      },
      "outputs": [],
      "source": [
        "from sklearn.model_selection import RepeatedKFold\n",
        "from sklearn.linear_model import LassoCV\n",
        "from numpy import arange\n",
        "#instantiate repeated k-fold\n",
        "lcv = RepeatedKFold(n_splits=10,n_repeats=3,random_state=42)\n",
        "\n",
        "#instantiate ridgecv\n",
        "lassocv = LassoCV(alphas=arange(0.1, 1, 0.01), cv=lcv)\n",
        "\n",
        "#fitting ridge model\n",
        "lassocv.fit(x_train, y_train)\n",
        "y_pred_train_lcv=lassocv.predict(x_train)\n",
        "y_pred_test_lcv=lassocv.predict(x_test)"
      ]
    },
    {
      "cell_type": "code",
      "execution_count": null,
      "metadata": {
        "id": "13KHF0bBcRu7",
        "outputId": "c6f673b9-73fb-4323-e034-346b6e327a01"
      },
      "outputs": [
        {
          "data": {
            "text/plain": [
              "0.5106980005306152"
            ]
          },
          "execution_count": 33,
          "metadata": {},
          "output_type": "execute_result"
        }
      ],
      "source": [
        "#Accuracy on train data\n",
        "acc_train_lasso_cv=lassocv.score(x_train,y_train)\n",
        "acc_train_lasso_cv"
      ]
    },
    {
      "cell_type": "code",
      "execution_count": null,
      "metadata": {
        "id": "tRFL9mnTcRu7",
        "outputId": "6ca915b8-964a-4c2a-8309-b03fe1642edd"
      },
      "outputs": [
        {
          "data": {
            "text/plain": [
              "0.5081191157847936"
            ]
          },
          "execution_count": 34,
          "metadata": {},
          "output_type": "execute_result"
        }
      ],
      "source": [
        "#Accuracy on test data\n",
        "acc_test_lasso_cv=lassocv.score(x_test,y_test)\n",
        "acc_test_lasso_cv"
      ]
    },
    {
      "cell_type": "code",
      "execution_count": null,
      "metadata": {
        "id": "Bj2VpZDqcRu9",
        "outputId": "3ad4ddd8-374d-48f3-8daa-32a8fcbd25de"
      },
      "outputs": [
        {
          "name": "stdout",
          "output_type": "stream",
          "text": [
            "Model Evaluation for Lasso CV\n",
            "-----------------------Model Evaluation for training data --------------------------\n",
            "The Mean Squared Error for Lasso CV is:        1427239.259953453\n",
            "The Mean Absolute Error for Lasso CV is:       894.4241801139688\n",
            "The Root Mean Squared Error for Lasso CV is:   1194.6711932383123\n",
            "\n",
            "---------------------Model Evaluation for testing data ---------------------------\n",
            "The Mean Squared Error for Lasso CV is:        1424454.1016211973\n",
            "The Mean Absolute Error for Lasso CV is:       906.4930183791614\n",
            "The Root Mean Squared Error for Lasso CV is:   1193.5049650592985\n"
          ]
        }
      ],
      "source": [
        "print(\"Model Evaluation for Lasso CV\")\n",
        "print(\"-----------------------Model Evaluation for training data --------------------------\")\n",
        "print(\"The Mean Squared Error for Lasso CV is:       \",mean_squared_error(y_train,y_pred_train_lcv))\n",
        "print(\"The Mean Absolute Error for Lasso CV is:      \",mean_absolute_error(y_train,y_pred_train_lcv))\n",
        "print(\"The Root Mean Squared Error for Lasso CV is:  \",np.sqrt(mean_squared_error(y_train,y_pred_train_lcv)))\n",
        "print(\"\\n---------------------Model Evaluation for testing data ---------------------------\")\n",
        "print(\"The Mean Squared Error for Lasso CV is:       \",mean_squared_error(y_test,y_pred_test_lcv))\n",
        "print(\"The Mean Absolute Error for Lasso CV is:      \",mean_absolute_error(y_test,y_pred_test_lcv))\n",
        "print(\"The Root Mean Squared Error for Lasso CV is:  \",np.sqrt(mean_squared_error(y_test,y_pred_test_lcv)))\n"
      ]
    },
    {
      "cell_type": "markdown",
      "metadata": {
        "id": "B_khWukYcRu-"
      },
      "source": [
        "# Decision Tree"
      ]
    },
    {
      "cell_type": "code",
      "execution_count": null,
      "metadata": {
        "id": "7X1PsMVncRu_"
      },
      "outputs": [],
      "source": [
        "from sklearn.tree import DecisionTreeRegressor\n",
        "decision_tree= DecisionTreeRegressor()\n",
        "decision_tree.fit(x_train,y_train)\n",
        "y_pred_train_dt=decision_tree.predict(x_train)\n",
        "y_pred_test_dt=decision_tree.predict(x_test)"
      ]
    },
    {
      "cell_type": "code",
      "execution_count": null,
      "metadata": {
        "id": "IvzwbuhJcRvA",
        "outputId": "15d64c58-aa92-4ebe-e253-f2e4cae2bf67"
      },
      "outputs": [
        {
          "data": {
            "text/plain": [
              "1.0"
            ]
          },
          "execution_count": 37,
          "metadata": {},
          "output_type": "execute_result"
        }
      ],
      "source": [
        "#Accuracy on test data\n",
        "acc_train_decision_tree=decision_tree.score(x_train,y_train)\n",
        "acc_train_decision_tree"
      ]
    },
    {
      "cell_type": "code",
      "execution_count": null,
      "metadata": {
        "id": "yydWkw-McRvB",
        "outputId": "81af343f-b18a-47bb-f906-42e2fa6e37c5"
      },
      "outputs": [
        {
          "data": {
            "text/plain": [
              "0.15736993693114554"
            ]
          },
          "execution_count": 38,
          "metadata": {},
          "output_type": "execute_result"
        }
      ],
      "source": [
        "#Accuracy on test data\n",
        "acc_test_decision_tree=decision_tree.score(x_test,y_test)\n",
        "acc_test_decision_tree"
      ]
    },
    {
      "cell_type": "code",
      "execution_count": null,
      "metadata": {
        "id": "rmxWJLzycRvB",
        "outputId": "0521fdf7-0ddd-46ae-8e7e-518835f5a6f6"
      },
      "outputs": [
        {
          "name": "stdout",
          "output_type": "stream",
          "text": [
            "Decision Tree Regressor Model Performance: \n",
            "\n",
            "------------------Training Performance:---------------\n",
            "Mean Absolute Error        : 0.0\n",
            "Mean Squared Error         : 0.0\n",
            "Root Mean Squared Error    : 0.0\n",
            "R2 Score                   : 1.0\n",
            "\n",
            "-----------------Testing Performance:-----------------\n",
            "Mean Absolute Error        : 1075.5103872360394\n",
            "Mean Squared Error         : 2440200.2354753255\n",
            "Root Mean Squared Error    : 1562.114027680222\n",
            "R2 Score                   : 0.15736993693114554\n"
          ]
        }
      ],
      "source": [
        "from sklearn import metrics\n",
        "print(\"Decision Tree Regressor Model Performance: \\n\")\n",
        "\n",
        "print(\"------------------Training Performance:---------------\")\n",
        "print(\"Mean Absolute Error        :\",metrics.mean_absolute_error(y_train,y_pred_train_dt))\n",
        "print(\"Mean Squared Error         :\",metrics.mean_squared_error(y_train,y_pred_train_dt))\n",
        "print(\"Root Mean Squared Error    :\",np.sqrt(metrics.mean_squared_error(y_train,y_pred_train_dt)))\n",
        "print(\"R2 Score                   :\",metrics.r2_score(y_train,y_pred_train_dt))\n",
        "\n",
        "print(\"\\n-----------------Testing Performance:-----------------\")\n",
        "print(\"Mean Absolute Error        :\",metrics.mean_absolute_error(y_test,y_pred_test_dt))\n",
        "print(\"Mean Squared Error         :\",metrics.mean_squared_error(y_test,y_pred_test_dt))\n",
        "print(\"Root Mean Squared Error    :\",np.sqrt(metrics.mean_squared_error(y_test,y_pred_test_dt)))\n",
        "print(\"R2 Score                   :\",metrics.r2_score(y_test,y_pred_test_dt))"
      ]
    },
    {
      "cell_type": "markdown",
      "metadata": {
        "id": "LxRwpgvecRvC"
      },
      "source": [
        "# Tuning Parameter using GridSearchCV"
      ]
    },
    {
      "cell_type": "code",
      "execution_count": null,
      "metadata": {
        "id": "kr2zE-dScRvC"
      },
      "outputs": [],
      "source": [
        "params = {'max_depth':[2,3,5,10,20],\n",
        "         'min_samples_leaf':[5,10,20,50],\n",
        "         'min_samples_split':[2,5,10,20]\n",
        "         }"
      ]
    },
    {
      "cell_type": "code",
      "execution_count": null,
      "metadata": {
        "id": "q4NTPff4cRvC",
        "outputId": "6769bcce-9fcb-4a90-b1d5-ff4e7caff461"
      },
      "outputs": [
        {
          "data": {
            "text/html": [
              "<style>#sk-container-id-1 {color: black;}#sk-container-id-1 pre{padding: 0;}#sk-container-id-1 div.sk-toggleable {background-color: white;}#sk-container-id-1 label.sk-toggleable__label {cursor: pointer;display: block;width: 100%;margin-bottom: 0;padding: 0.3em;box-sizing: border-box;text-align: center;}#sk-container-id-1 label.sk-toggleable__label-arrow:before {content: \"▸\";float: left;margin-right: 0.25em;color: #696969;}#sk-container-id-1 label.sk-toggleable__label-arrow:hover:before {color: black;}#sk-container-id-1 div.sk-estimator:hover label.sk-toggleable__label-arrow:before {color: black;}#sk-container-id-1 div.sk-toggleable__content {max-height: 0;max-width: 0;overflow: hidden;text-align: left;background-color: #f0f8ff;}#sk-container-id-1 div.sk-toggleable__content pre {margin: 0.2em;color: black;border-radius: 0.25em;background-color: #f0f8ff;}#sk-container-id-1 input.sk-toggleable__control:checked~div.sk-toggleable__content {max-height: 200px;max-width: 100%;overflow: auto;}#sk-container-id-1 input.sk-toggleable__control:checked~label.sk-toggleable__label-arrow:before {content: \"▾\";}#sk-container-id-1 div.sk-estimator input.sk-toggleable__control:checked~label.sk-toggleable__label {background-color: #d4ebff;}#sk-container-id-1 div.sk-label input.sk-toggleable__control:checked~label.sk-toggleable__label {background-color: #d4ebff;}#sk-container-id-1 input.sk-hidden--visually {border: 0;clip: rect(1px 1px 1px 1px);clip: rect(1px, 1px, 1px, 1px);height: 1px;margin: -1px;overflow: hidden;padding: 0;position: absolute;width: 1px;}#sk-container-id-1 div.sk-estimator {font-family: monospace;background-color: #f0f8ff;border: 1px dotted black;border-radius: 0.25em;box-sizing: border-box;margin-bottom: 0.5em;}#sk-container-id-1 div.sk-estimator:hover {background-color: #d4ebff;}#sk-container-id-1 div.sk-parallel-item::after {content: \"\";width: 100%;border-bottom: 1px solid gray;flex-grow: 1;}#sk-container-id-1 div.sk-label:hover label.sk-toggleable__label {background-color: #d4ebff;}#sk-container-id-1 div.sk-serial::before {content: \"\";position: absolute;border-left: 1px solid gray;box-sizing: border-box;top: 0;bottom: 0;left: 50%;z-index: 0;}#sk-container-id-1 div.sk-serial {display: flex;flex-direction: column;align-items: center;background-color: white;padding-right: 0.2em;padding-left: 0.2em;position: relative;}#sk-container-id-1 div.sk-item {position: relative;z-index: 1;}#sk-container-id-1 div.sk-parallel {display: flex;align-items: stretch;justify-content: center;background-color: white;position: relative;}#sk-container-id-1 div.sk-item::before, #sk-container-id-1 div.sk-parallel-item::before {content: \"\";position: absolute;border-left: 1px solid gray;box-sizing: border-box;top: 0;bottom: 0;left: 50%;z-index: -1;}#sk-container-id-1 div.sk-parallel-item {display: flex;flex-direction: column;z-index: 1;position: relative;background-color: white;}#sk-container-id-1 div.sk-parallel-item:first-child::after {align-self: flex-end;width: 50%;}#sk-container-id-1 div.sk-parallel-item:last-child::after {align-self: flex-start;width: 50%;}#sk-container-id-1 div.sk-parallel-item:only-child::after {width: 0;}#sk-container-id-1 div.sk-dashed-wrapped {border: 1px dashed gray;margin: 0 0.4em 0.5em 0.4em;box-sizing: border-box;padding-bottom: 0.4em;background-color: white;}#sk-container-id-1 div.sk-label label {font-family: monospace;font-weight: bold;display: inline-block;line-height: 1.2em;}#sk-container-id-1 div.sk-label-container {text-align: center;}#sk-container-id-1 div.sk-container {/* jupyter's `normalize.less` sets `[hidden] { display: none; }` but bootstrap.min.css set `[hidden] { display: none !important; }` so we also need the `!important` here to be able to override the default hidden behavior on the sphinx rendered scikit-learn.org. See: https://github.com/scikit-learn/scikit-learn/issues/21755 */display: inline-block !important;position: relative;}#sk-container-id-1 div.sk-text-repr-fallback {display: none;}</style><div id=\"sk-container-id-1\" class=\"sk-top-container\"><div class=\"sk-text-repr-fallback\"><pre>GridSearchCV(cv=10, estimator=DecisionTreeRegressor(),\n",
              "             param_grid={&#x27;max_depth&#x27;: [2, 3, 5, 10, 20],\n",
              "                         &#x27;min_samples_leaf&#x27;: [5, 10, 20, 50],\n",
              "                         &#x27;min_samples_split&#x27;: [2, 5, 10, 20]},\n",
              "             scoring=&#x27;neg_mean_squared_error&#x27;)</pre><b>In a Jupyter environment, please rerun this cell to show the HTML representation or trust the notebook. <br />On GitHub, the HTML representation is unable to render, please try loading this page with nbviewer.org.</b></div><div class=\"sk-container\" hidden><div class=\"sk-item sk-dashed-wrapped\"><div class=\"sk-label-container\"><div class=\"sk-label sk-toggleable\"><input class=\"sk-toggleable__control sk-hidden--visually\" id=\"sk-estimator-id-1\" type=\"checkbox\" ><label for=\"sk-estimator-id-1\" class=\"sk-toggleable__label sk-toggleable__label-arrow\">GridSearchCV</label><div class=\"sk-toggleable__content\"><pre>GridSearchCV(cv=10, estimator=DecisionTreeRegressor(),\n",
              "             param_grid={&#x27;max_depth&#x27;: [2, 3, 5, 10, 20],\n",
              "                         &#x27;min_samples_leaf&#x27;: [5, 10, 20, 50],\n",
              "                         &#x27;min_samples_split&#x27;: [2, 5, 10, 20]},\n",
              "             scoring=&#x27;neg_mean_squared_error&#x27;)</pre></div></div></div><div class=\"sk-parallel\"><div class=\"sk-parallel-item\"><div class=\"sk-item\"><div class=\"sk-label-container\"><div class=\"sk-label sk-toggleable\"><input class=\"sk-toggleable__control sk-hidden--visually\" id=\"sk-estimator-id-2\" type=\"checkbox\" ><label for=\"sk-estimator-id-2\" class=\"sk-toggleable__label sk-toggleable__label-arrow\">estimator: DecisionTreeRegressor</label><div class=\"sk-toggleable__content\"><pre>DecisionTreeRegressor()</pre></div></div></div><div class=\"sk-serial\"><div class=\"sk-item\"><div class=\"sk-estimator sk-toggleable\"><input class=\"sk-toggleable__control sk-hidden--visually\" id=\"sk-estimator-id-3\" type=\"checkbox\" ><label for=\"sk-estimator-id-3\" class=\"sk-toggleable__label sk-toggleable__label-arrow\">DecisionTreeRegressor</label><div class=\"sk-toggleable__content\"><pre>DecisionTreeRegressor()</pre></div></div></div></div></div></div></div></div></div></div>"
            ],
            "text/plain": [
              "GridSearchCV(cv=10, estimator=DecisionTreeRegressor(),\n",
              "             param_grid={'max_depth': [2, 3, 5, 10, 20],\n",
              "                         'min_samples_leaf': [5, 10, 20, 50],\n",
              "                         'min_samples_split': [2, 5, 10, 20]},\n",
              "             scoring='neg_mean_squared_error')"
            ]
          },
          "execution_count": 41,
          "metadata": {},
          "output_type": "execute_result"
        }
      ],
      "source": [
        "reg_dt = DecisionTreeRegressor()\n",
        "\n",
        "from sklearn.model_selection import GridSearchCV\n",
        "\n",
        "grid_search = GridSearchCV(estimator=reg_dt,\n",
        "                          param_grid=params,\n",
        "                          cv=10,\n",
        "                          scoring='neg_mean_squared_error')\n",
        "grid_search.fit(x_train,y_train)"
      ]
    },
    {
      "cell_type": "code",
      "execution_count": null,
      "metadata": {
        "id": "eVXdV0VQcRvD",
        "outputId": "6aff9fd7-4ce8-4a3f-8c0f-0144935ddc4b"
      },
      "outputs": [
        {
          "data": {
            "text/plain": [
              "{'max_depth': 5, 'min_samples_leaf': 50, 'min_samples_split': 2}"
            ]
          },
          "execution_count": 42,
          "metadata": {},
          "output_type": "execute_result"
        }
      ],
      "source": [
        "grid_search.best_params_"
      ]
    },
    {
      "cell_type": "code",
      "execution_count": null,
      "metadata": {
        "id": "TurXKiFVcRvD"
      },
      "outputs": [],
      "source": [
        "params2 = {'max_depth':range(1,10),\n",
        "         'min_samples_leaf':range(50,60),\n",
        "         'min_samples_split':range(2,5)\n",
        "          }"
      ]
    },
    {
      "cell_type": "code",
      "execution_count": null,
      "metadata": {
        "id": "Vrf85YehcRvE",
        "outputId": "b37cc6e8-3722-44f1-b1d7-21b0734d826e"
      },
      "outputs": [
        {
          "data": {
            "text/html": [
              "<style>#sk-container-id-2 {color: black;}#sk-container-id-2 pre{padding: 0;}#sk-container-id-2 div.sk-toggleable {background-color: white;}#sk-container-id-2 label.sk-toggleable__label {cursor: pointer;display: block;width: 100%;margin-bottom: 0;padding: 0.3em;box-sizing: border-box;text-align: center;}#sk-container-id-2 label.sk-toggleable__label-arrow:before {content: \"▸\";float: left;margin-right: 0.25em;color: #696969;}#sk-container-id-2 label.sk-toggleable__label-arrow:hover:before {color: black;}#sk-container-id-2 div.sk-estimator:hover label.sk-toggleable__label-arrow:before {color: black;}#sk-container-id-2 div.sk-toggleable__content {max-height: 0;max-width: 0;overflow: hidden;text-align: left;background-color: #f0f8ff;}#sk-container-id-2 div.sk-toggleable__content pre {margin: 0.2em;color: black;border-radius: 0.25em;background-color: #f0f8ff;}#sk-container-id-2 input.sk-toggleable__control:checked~div.sk-toggleable__content {max-height: 200px;max-width: 100%;overflow: auto;}#sk-container-id-2 input.sk-toggleable__control:checked~label.sk-toggleable__label-arrow:before {content: \"▾\";}#sk-container-id-2 div.sk-estimator input.sk-toggleable__control:checked~label.sk-toggleable__label {background-color: #d4ebff;}#sk-container-id-2 div.sk-label input.sk-toggleable__control:checked~label.sk-toggleable__label {background-color: #d4ebff;}#sk-container-id-2 input.sk-hidden--visually {border: 0;clip: rect(1px 1px 1px 1px);clip: rect(1px, 1px, 1px, 1px);height: 1px;margin: -1px;overflow: hidden;padding: 0;position: absolute;width: 1px;}#sk-container-id-2 div.sk-estimator {font-family: monospace;background-color: #f0f8ff;border: 1px dotted black;border-radius: 0.25em;box-sizing: border-box;margin-bottom: 0.5em;}#sk-container-id-2 div.sk-estimator:hover {background-color: #d4ebff;}#sk-container-id-2 div.sk-parallel-item::after {content: \"\";width: 100%;border-bottom: 1px solid gray;flex-grow: 1;}#sk-container-id-2 div.sk-label:hover label.sk-toggleable__label {background-color: #d4ebff;}#sk-container-id-2 div.sk-serial::before {content: \"\";position: absolute;border-left: 1px solid gray;box-sizing: border-box;top: 0;bottom: 0;left: 50%;z-index: 0;}#sk-container-id-2 div.sk-serial {display: flex;flex-direction: column;align-items: center;background-color: white;padding-right: 0.2em;padding-left: 0.2em;position: relative;}#sk-container-id-2 div.sk-item {position: relative;z-index: 1;}#sk-container-id-2 div.sk-parallel {display: flex;align-items: stretch;justify-content: center;background-color: white;position: relative;}#sk-container-id-2 div.sk-item::before, #sk-container-id-2 div.sk-parallel-item::before {content: \"\";position: absolute;border-left: 1px solid gray;box-sizing: border-box;top: 0;bottom: 0;left: 50%;z-index: -1;}#sk-container-id-2 div.sk-parallel-item {display: flex;flex-direction: column;z-index: 1;position: relative;background-color: white;}#sk-container-id-2 div.sk-parallel-item:first-child::after {align-self: flex-end;width: 50%;}#sk-container-id-2 div.sk-parallel-item:last-child::after {align-self: flex-start;width: 50%;}#sk-container-id-2 div.sk-parallel-item:only-child::after {width: 0;}#sk-container-id-2 div.sk-dashed-wrapped {border: 1px dashed gray;margin: 0 0.4em 0.5em 0.4em;box-sizing: border-box;padding-bottom: 0.4em;background-color: white;}#sk-container-id-2 div.sk-label label {font-family: monospace;font-weight: bold;display: inline-block;line-height: 1.2em;}#sk-container-id-2 div.sk-label-container {text-align: center;}#sk-container-id-2 div.sk-container {/* jupyter's `normalize.less` sets `[hidden] { display: none; }` but bootstrap.min.css set `[hidden] { display: none !important; }` so we also need the `!important` here to be able to override the default hidden behavior on the sphinx rendered scikit-learn.org. See: https://github.com/scikit-learn/scikit-learn/issues/21755 */display: inline-block !important;position: relative;}#sk-container-id-2 div.sk-text-repr-fallback {display: none;}</style><div id=\"sk-container-id-2\" class=\"sk-top-container\"><div class=\"sk-text-repr-fallback\"><pre>GridSearchCV(cv=10, estimator=DecisionTreeRegressor(),\n",
              "             param_grid={&#x27;max_depth&#x27;: range(1, 10),\n",
              "                         &#x27;min_samples_leaf&#x27;: range(50, 60),\n",
              "                         &#x27;min_samples_split&#x27;: range(2, 5)},\n",
              "             scoring=&#x27;neg_mean_squared_error&#x27;)</pre><b>In a Jupyter environment, please rerun this cell to show the HTML representation or trust the notebook. <br />On GitHub, the HTML representation is unable to render, please try loading this page with nbviewer.org.</b></div><div class=\"sk-container\" hidden><div class=\"sk-item sk-dashed-wrapped\"><div class=\"sk-label-container\"><div class=\"sk-label sk-toggleable\"><input class=\"sk-toggleable__control sk-hidden--visually\" id=\"sk-estimator-id-4\" type=\"checkbox\" ><label for=\"sk-estimator-id-4\" class=\"sk-toggleable__label sk-toggleable__label-arrow\">GridSearchCV</label><div class=\"sk-toggleable__content\"><pre>GridSearchCV(cv=10, estimator=DecisionTreeRegressor(),\n",
              "             param_grid={&#x27;max_depth&#x27;: range(1, 10),\n",
              "                         &#x27;min_samples_leaf&#x27;: range(50, 60),\n",
              "                         &#x27;min_samples_split&#x27;: range(2, 5)},\n",
              "             scoring=&#x27;neg_mean_squared_error&#x27;)</pre></div></div></div><div class=\"sk-parallel\"><div class=\"sk-parallel-item\"><div class=\"sk-item\"><div class=\"sk-label-container\"><div class=\"sk-label sk-toggleable\"><input class=\"sk-toggleable__control sk-hidden--visually\" id=\"sk-estimator-id-5\" type=\"checkbox\" ><label for=\"sk-estimator-id-5\" class=\"sk-toggleable__label sk-toggleable__label-arrow\">estimator: DecisionTreeRegressor</label><div class=\"sk-toggleable__content\"><pre>DecisionTreeRegressor()</pre></div></div></div><div class=\"sk-serial\"><div class=\"sk-item\"><div class=\"sk-estimator sk-toggleable\"><input class=\"sk-toggleable__control sk-hidden--visually\" id=\"sk-estimator-id-6\" type=\"checkbox\" ><label for=\"sk-estimator-id-6\" class=\"sk-toggleable__label sk-toggleable__label-arrow\">DecisionTreeRegressor</label><div class=\"sk-toggleable__content\"><pre>DecisionTreeRegressor()</pre></div></div></div></div></div></div></div></div></div></div>"
            ],
            "text/plain": [
              "GridSearchCV(cv=10, estimator=DecisionTreeRegressor(),\n",
              "             param_grid={'max_depth': range(1, 10),\n",
              "                         'min_samples_leaf': range(50, 60),\n",
              "                         'min_samples_split': range(2, 5)},\n",
              "             scoring='neg_mean_squared_error')"
            ]
          },
          "execution_count": 44,
          "metadata": {},
          "output_type": "execute_result"
        }
      ],
      "source": [
        "reg_dt = DecisionTreeRegressor()\n",
        "\n",
        "from sklearn.model_selection import GridSearchCV\n",
        "\n",
        "grid_search = GridSearchCV(estimator=reg_dt,\n",
        "                          param_grid=params2,\n",
        "                          cv=10,\n",
        "                          scoring='neg_mean_squared_error')\n",
        "grid_search.fit(x_train,y_train)"
      ]
    },
    {
      "cell_type": "code",
      "execution_count": null,
      "metadata": {
        "id": "FbkVWVj5cRvE",
        "outputId": "913c8b15-9830-495c-fd2b-0ccb71fad5ed"
      },
      "outputs": [
        {
          "data": {
            "text/plain": [
              "{'max_depth': 6, 'min_samples_leaf': 59, 'min_samples_split': 2}"
            ]
          },
          "execution_count": 45,
          "metadata": {},
          "output_type": "execute_result"
        }
      ],
      "source": [
        "grid_search.best_params_"
      ]
    },
    {
      "cell_type": "code",
      "execution_count": null,
      "metadata": {
        "id": "-4q3jKKzcRvE"
      },
      "outputs": [],
      "source": [
        "reg_dt_tuned = DecisionTreeRegressor(max_depth= 6,\n",
        "                                     min_samples_leaf= 59,\n",
        "                                     min_samples_split= 2\n",
        "                                    )\n",
        "reg_dt_tuned = reg_dt_tuned.fit(x_train,y_train)"
      ]
    },
    {
      "cell_type": "code",
      "execution_count": null,
      "metadata": {
        "id": "k_vBM402cRvF"
      },
      "outputs": [],
      "source": [
        "y_test_predict_dtr = reg_dt_tuned.predict(x_test)\n",
        "y_train_predict_dtr = reg_dt_tuned.predict(x_train)"
      ]
    },
    {
      "cell_type": "code",
      "execution_count": null,
      "metadata": {
        "id": "IJSV5RFacRvF",
        "outputId": "50a6837c-58d1-4fbe-ba4e-8b812c9cdffb"
      },
      "outputs": [
        {
          "name": "stdout",
          "output_type": "stream",
          "text": [
            "Decision Tree Regressor Model Performance: \n",
            "\n",
            "------------------Training Performance:---------------\n",
            "Mean Absolute Error        : 744.104048966367\n",
            "Mean Squared Error         : 1131914.0211452364\n",
            "Root Mean Squared Error    : 1063.9144801840214\n",
            "R2 Score                   : 0.6119446757708595\n",
            "\n",
            "-----------------Testing Performance:-----------------\n",
            "Mean Absolute Error        : 764.4917665516177\n",
            "Mean Squared Error         : 1184436.457044781\n",
            "Root Mean Squared Error    : 1088.318178220313\n",
            "R2 Score                   : 0.5910000531959272\n"
          ]
        }
      ],
      "source": [
        "from sklearn import metrics\n",
        "print(\"Decision Tree Regressor Model Performance: \\n\")\n",
        "\n",
        "print(\"------------------Training Performance:---------------\")\n",
        "print(\"Mean Absolute Error        :\",metrics.mean_absolute_error(y_train,y_train_predict_dtr))\n",
        "print(\"Mean Squared Error         :\",metrics.mean_squared_error(y_train,y_train_predict_dtr))\n",
        "print(\"Root Mean Squared Error    :\",np.sqrt(metrics.mean_squared_error(y_train,y_train_predict_dtr)))\n",
        "print(\"R2 Score                   :\",metrics.r2_score(y_train,y_train_predict_dtr))\n",
        "\n",
        "print(\"\\n-----------------Testing Performance:-----------------\")\n",
        "print(\"Mean Absolute Error        :\",metrics.mean_absolute_error(y_test,y_test_predict_dtr))\n",
        "print(\"Mean Squared Error         :\",metrics.mean_squared_error(y_test,y_test_predict_dtr))\n",
        "print(\"Root Mean Squared Error    :\",np.sqrt(metrics.mean_squared_error(y_test,y_test_predict_dtr)))\n",
        "print(\"R2 Score                   :\",metrics.r2_score(y_test,y_test_predict_dtr))"
      ]
    },
    {
      "cell_type": "code",
      "execution_count": null,
      "metadata": {
        "id": "MmIMGGDScRvF"
      },
      "outputs": [],
      "source": []
    },
    {
      "cell_type": "markdown",
      "metadata": {
        "id": "jktstn4acRvG"
      },
      "source": [
        "# XGBoost"
      ]
    },
    {
      "cell_type": "code",
      "execution_count": null,
      "metadata": {
        "id": "Z3hm3FdscRvG"
      },
      "outputs": [],
      "source": [
        "import xgboost as xgb\n",
        "xgboost = xgb.XGBRegressor(objective='reg:squarederror',\n",
        "                           eval_metric='rmsle',\n",
        "                           seed=42,\n",
        "                           use_label_encoder=False)\n",
        "xgboost.fit(x_train, y_train)\n",
        "y_pred_train_xgb=xgboost.predict(x_train)\n",
        "y_pred_test_xgb=xgboost.predict(x_test)\n"
      ]
    },
    {
      "cell_type": "code",
      "execution_count": null,
      "metadata": {
        "id": "vTwZmofLcRvG",
        "outputId": "3d30b330-2127-4687-8c14-7e6948cfd642"
      },
      "outputs": [
        {
          "name": "stdout",
          "output_type": "stream",
          "text": [
            "XGBoost Model Performance: \n",
            "\n",
            "------------------Training Performance:---------------\n",
            "Mean Absolute Error        : 441.23148930852693\n",
            "Mean Squared Error         : 376325.4558606685\n",
            "Root Mean Squared Error    : 613.4537112616309\n",
            "R2 Score                   : 0.8709839315870149\n",
            "\n",
            "-----------------Testing Performance:-----------------\n",
            "Mean Absolute Error        : 833.0047022447383\n",
            "Mean Squared Error         : 1402642.5790882409\n",
            "Root Mean Squared Error    : 1184.3321236411014\n",
            "R2 Score                   : 0.5156508930301117\n"
          ]
        }
      ],
      "source": [
        "from sklearn import metrics\n",
        "print(\"XGBoost Model Performance: \\n\")\n",
        "\n",
        "print(\"------------------Training Performance:---------------\")\n",
        "print(\"Mean Absolute Error        :\",metrics.mean_absolute_error(y_train,y_pred_train_xgb))\n",
        "print(\"Mean Squared Error         :\",metrics.mean_squared_error(y_train,y_pred_train_xgb))\n",
        "print(\"Root Mean Squared Error    :\",np.sqrt(metrics.mean_squared_error(y_train,y_pred_train_xgb)))\n",
        "print(\"R2 Score                   :\",metrics.r2_score(y_train,y_pred_train_xgb))\n",
        "\n",
        "print(\"\\n-----------------Testing Performance:-----------------\")\n",
        "print(\"Mean Absolute Error        :\",metrics.mean_absolute_error(y_test,y_pred_test_xgb))\n",
        "print(\"Mean Squared Error         :\",metrics.mean_squared_error(y_test,y_pred_test_xgb))\n",
        "print(\"Root Mean Squared Error    :\",np.sqrt(metrics.mean_squared_error(y_test,y_pred_test_xgb)))\n",
        "print(\"R2 Score                   :\",metrics.r2_score(y_test,y_pred_test_xgb))"
      ]
    },
    {
      "cell_type": "markdown",
      "metadata": {
        "id": "0W6KuPG8cRvH"
      },
      "source": [
        "# Tuning the model using GridSearchCV"
      ]
    },
    {
      "cell_type": "code",
      "execution_count": null,
      "metadata": {
        "id": "7V3ygpXScRvH",
        "outputId": "8058cc9f-aeeb-4100-c96c-a61cc18e2791"
      },
      "outputs": [
        {
          "data": {
            "text/html": [
              "<style>#sk-container-id-3 {color: black;}#sk-container-id-3 pre{padding: 0;}#sk-container-id-3 div.sk-toggleable {background-color: white;}#sk-container-id-3 label.sk-toggleable__label {cursor: pointer;display: block;width: 100%;margin-bottom: 0;padding: 0.3em;box-sizing: border-box;text-align: center;}#sk-container-id-3 label.sk-toggleable__label-arrow:before {content: \"▸\";float: left;margin-right: 0.25em;color: #696969;}#sk-container-id-3 label.sk-toggleable__label-arrow:hover:before {color: black;}#sk-container-id-3 div.sk-estimator:hover label.sk-toggleable__label-arrow:before {color: black;}#sk-container-id-3 div.sk-toggleable__content {max-height: 0;max-width: 0;overflow: hidden;text-align: left;background-color: #f0f8ff;}#sk-container-id-3 div.sk-toggleable__content pre {margin: 0.2em;color: black;border-radius: 0.25em;background-color: #f0f8ff;}#sk-container-id-3 input.sk-toggleable__control:checked~div.sk-toggleable__content {max-height: 200px;max-width: 100%;overflow: auto;}#sk-container-id-3 input.sk-toggleable__control:checked~label.sk-toggleable__label-arrow:before {content: \"▾\";}#sk-container-id-3 div.sk-estimator input.sk-toggleable__control:checked~label.sk-toggleable__label {background-color: #d4ebff;}#sk-container-id-3 div.sk-label input.sk-toggleable__control:checked~label.sk-toggleable__label {background-color: #d4ebff;}#sk-container-id-3 input.sk-hidden--visually {border: 0;clip: rect(1px 1px 1px 1px);clip: rect(1px, 1px, 1px, 1px);height: 1px;margin: -1px;overflow: hidden;padding: 0;position: absolute;width: 1px;}#sk-container-id-3 div.sk-estimator {font-family: monospace;background-color: #f0f8ff;border: 1px dotted black;border-radius: 0.25em;box-sizing: border-box;margin-bottom: 0.5em;}#sk-container-id-3 div.sk-estimator:hover {background-color: #d4ebff;}#sk-container-id-3 div.sk-parallel-item::after {content: \"\";width: 100%;border-bottom: 1px solid gray;flex-grow: 1;}#sk-container-id-3 div.sk-label:hover label.sk-toggleable__label {background-color: #d4ebff;}#sk-container-id-3 div.sk-serial::before {content: \"\";position: absolute;border-left: 1px solid gray;box-sizing: border-box;top: 0;bottom: 0;left: 50%;z-index: 0;}#sk-container-id-3 div.sk-serial {display: flex;flex-direction: column;align-items: center;background-color: white;padding-right: 0.2em;padding-left: 0.2em;position: relative;}#sk-container-id-3 div.sk-item {position: relative;z-index: 1;}#sk-container-id-3 div.sk-parallel {display: flex;align-items: stretch;justify-content: center;background-color: white;position: relative;}#sk-container-id-3 div.sk-item::before, #sk-container-id-3 div.sk-parallel-item::before {content: \"\";position: absolute;border-left: 1px solid gray;box-sizing: border-box;top: 0;bottom: 0;left: 50%;z-index: -1;}#sk-container-id-3 div.sk-parallel-item {display: flex;flex-direction: column;z-index: 1;position: relative;background-color: white;}#sk-container-id-3 div.sk-parallel-item:first-child::after {align-self: flex-end;width: 50%;}#sk-container-id-3 div.sk-parallel-item:last-child::after {align-self: flex-start;width: 50%;}#sk-container-id-3 div.sk-parallel-item:only-child::after {width: 0;}#sk-container-id-3 div.sk-dashed-wrapped {border: 1px dashed gray;margin: 0 0.4em 0.5em 0.4em;box-sizing: border-box;padding-bottom: 0.4em;background-color: white;}#sk-container-id-3 div.sk-label label {font-family: monospace;font-weight: bold;display: inline-block;line-height: 1.2em;}#sk-container-id-3 div.sk-label-container {text-align: center;}#sk-container-id-3 div.sk-container {/* jupyter's `normalize.less` sets `[hidden] { display: none; }` but bootstrap.min.css set `[hidden] { display: none !important; }` so we also need the `!important` here to be able to override the default hidden behavior on the sphinx rendered scikit-learn.org. See: https://github.com/scikit-learn/scikit-learn/issues/21755 */display: inline-block !important;position: relative;}#sk-container-id-3 div.sk-text-repr-fallback {display: none;}</style><div id=\"sk-container-id-3\" class=\"sk-top-container\"><div class=\"sk-text-repr-fallback\"><pre>GridSearchCV(cv=3,\n",
              "             estimator=XGBRegressor(base_score=None, booster=None,\n",
              "                                    callbacks=None, colsample_bylevel=None,\n",
              "                                    colsample_bynode=None, colsample_bytree=0.5,\n",
              "                                    early_stopping_rounds=None,\n",
              "                                    enable_categorical=False, eval_metric=None,\n",
              "                                    feature_types=None, gamma=None, gpu_id=None,\n",
              "                                    grow_policy=None, importance_type=None,\n",
              "                                    interaction_constraints=None,\n",
              "                                    learning_rate=None, ma...\n",
              "                                    max_depth=None, max_leaves=None,\n",
              "                                    min_child_weight=None, missing=nan,\n",
              "                                    monotone_constraints=None, n_estimators=100,\n",
              "                                    n_jobs=None, num_parallel_tree=None,\n",
              "                                    predictor=None, random_state=None, ...),\n",
              "             param_grid={&#x27;gamma&#x27;: [0, 0.25, 1.0],\n",
              "                         &#x27;learning_rate&#x27;: [0.1, 0.01, 0.05],\n",
              "                         &#x27;max_depth&#x27;: [3, 4, 5], &#x27;reg_lambda&#x27;: [0, 1.0, 10.0],\n",
              "                         &#x27;scale_pos_weight&#x27;: [1, 3, 5]},\n",
              "             scoring=&#x27;neg_mean_absolute_error&#x27;)</pre><b>In a Jupyter environment, please rerun this cell to show the HTML representation or trust the notebook. <br />On GitHub, the HTML representation is unable to render, please try loading this page with nbviewer.org.</b></div><div class=\"sk-container\" hidden><div class=\"sk-item sk-dashed-wrapped\"><div class=\"sk-label-container\"><div class=\"sk-label sk-toggleable\"><input class=\"sk-toggleable__control sk-hidden--visually\" id=\"sk-estimator-id-7\" type=\"checkbox\" ><label for=\"sk-estimator-id-7\" class=\"sk-toggleable__label sk-toggleable__label-arrow\">GridSearchCV</label><div class=\"sk-toggleable__content\"><pre>GridSearchCV(cv=3,\n",
              "             estimator=XGBRegressor(base_score=None, booster=None,\n",
              "                                    callbacks=None, colsample_bylevel=None,\n",
              "                                    colsample_bynode=None, colsample_bytree=0.5,\n",
              "                                    early_stopping_rounds=None,\n",
              "                                    enable_categorical=False, eval_metric=None,\n",
              "                                    feature_types=None, gamma=None, gpu_id=None,\n",
              "                                    grow_policy=None, importance_type=None,\n",
              "                                    interaction_constraints=None,\n",
              "                                    learning_rate=None, ma...\n",
              "                                    max_depth=None, max_leaves=None,\n",
              "                                    min_child_weight=None, missing=nan,\n",
              "                                    monotone_constraints=None, n_estimators=100,\n",
              "                                    n_jobs=None, num_parallel_tree=None,\n",
              "                                    predictor=None, random_state=None, ...),\n",
              "             param_grid={&#x27;gamma&#x27;: [0, 0.25, 1.0],\n",
              "                         &#x27;learning_rate&#x27;: [0.1, 0.01, 0.05],\n",
              "                         &#x27;max_depth&#x27;: [3, 4, 5], &#x27;reg_lambda&#x27;: [0, 1.0, 10.0],\n",
              "                         &#x27;scale_pos_weight&#x27;: [1, 3, 5]},\n",
              "             scoring=&#x27;neg_mean_absolute_error&#x27;)</pre></div></div></div><div class=\"sk-parallel\"><div class=\"sk-parallel-item\"><div class=\"sk-item\"><div class=\"sk-label-container\"><div class=\"sk-label sk-toggleable\"><input class=\"sk-toggleable__control sk-hidden--visually\" id=\"sk-estimator-id-8\" type=\"checkbox\" ><label for=\"sk-estimator-id-8\" class=\"sk-toggleable__label sk-toggleable__label-arrow\">estimator: XGBRegressor</label><div class=\"sk-toggleable__content\"><pre>XGBRegressor(base_score=None, booster=None, callbacks=None,\n",
              "             colsample_bylevel=None, colsample_bynode=None,\n",
              "             colsample_bytree=0.5, early_stopping_rounds=None,\n",
              "             enable_categorical=False, eval_metric=None, feature_types=None,\n",
              "             gamma=None, gpu_id=None, grow_policy=None, importance_type=None,\n",
              "             interaction_constraints=None, learning_rate=None, max_bin=None,\n",
              "             max_cat_threshold=None, max_cat_to_onehot=None,\n",
              "             max_delta_step=None, max_depth=None, max_leaves=None,\n",
              "             min_child_weight=None, missing=nan, monotone_constraints=None,\n",
              "             n_estimators=100, n_jobs=None, num_parallel_tree=None,\n",
              "             predictor=None, random_state=None, ...)</pre></div></div></div><div class=\"sk-serial\"><div class=\"sk-item\"><div class=\"sk-estimator sk-toggleable\"><input class=\"sk-toggleable__control sk-hidden--visually\" id=\"sk-estimator-id-9\" type=\"checkbox\" ><label for=\"sk-estimator-id-9\" class=\"sk-toggleable__label sk-toggleable__label-arrow\">XGBRegressor</label><div class=\"sk-toggleable__content\"><pre>XGBRegressor(base_score=None, booster=None, callbacks=None,\n",
              "             colsample_bylevel=None, colsample_bynode=None,\n",
              "             colsample_bytree=0.5, early_stopping_rounds=None,\n",
              "             enable_categorical=False, eval_metric=None, feature_types=None,\n",
              "             gamma=None, gpu_id=None, grow_policy=None, importance_type=None,\n",
              "             interaction_constraints=None, learning_rate=None, max_bin=None,\n",
              "             max_cat_threshold=None, max_cat_to_onehot=None,\n",
              "             max_delta_step=None, max_depth=None, max_leaves=None,\n",
              "             min_child_weight=None, missing=nan, monotone_constraints=None,\n",
              "             n_estimators=100, n_jobs=None, num_parallel_tree=None,\n",
              "             predictor=None, random_state=None, ...)</pre></div></div></div></div></div></div></div></div></div></div>"
            ],
            "text/plain": [
              "GridSearchCV(cv=3,\n",
              "             estimator=XGBRegressor(base_score=None, booster=None,\n",
              "                                    callbacks=None, colsample_bylevel=None,\n",
              "                                    colsample_bynode=None, colsample_bytree=0.5,\n",
              "                                    early_stopping_rounds=None,\n",
              "                                    enable_categorical=False, eval_metric=None,\n",
              "                                    feature_types=None, gamma=None, gpu_id=None,\n",
              "                                    grow_policy=None, importance_type=None,\n",
              "                                    interaction_constraints=None,\n",
              "                                    learning_rate=None, ma...\n",
              "                                    max_depth=None, max_leaves=None,\n",
              "                                    min_child_weight=None, missing=nan,\n",
              "                                    monotone_constraints=None, n_estimators=100,\n",
              "                                    n_jobs=None, num_parallel_tree=None,\n",
              "                                    predictor=None, random_state=None, ...),\n",
              "             param_grid={'gamma': [0, 0.25, 1.0],\n",
              "                         'learning_rate': [0.1, 0.01, 0.05],\n",
              "                         'max_depth': [3, 4, 5], 'reg_lambda': [0, 1.0, 10.0],\n",
              "                         'scale_pos_weight': [1, 3, 5]},\n",
              "             scoring='neg_mean_absolute_error')"
            ]
          },
          "execution_count": 51,
          "metadata": {},
          "output_type": "execute_result"
        }
      ],
      "source": [
        "params = {\n",
        "    \"max_depth\" : [3,4,5],\n",
        "    'learning_rate' : [0.1,0.01,0.05],\n",
        "    'gamma' : [0,0.25,1.0] ,\n",
        "    'scale_pos_weight' : [1,3,5],\n",
        "    'reg_lambda' : [0,1.0,10.0]\n",
        "}\n",
        "\n",
        "from sklearn.model_selection import GridSearchCV\n",
        "\n",
        "optimal_params = GridSearchCV(estimator=xgb.XGBRegressor(objective='reg:squarederror',\n",
        "                                                          seed=42,subsample=0.9,colsample_bytree=0.5,\n",
        "                                                          use_label_encoder=False),\n",
        "                              param_grid=params,\n",
        "                              scoring='neg_mean_absolute_error',\n",
        "                              verbose=0,\n",
        "                              cv=3\n",
        "                             )\n",
        "\n",
        "optimal_params.fit(x_train,y_train,eval_metric='rmsle', eval_set=[(x_test,y_test)], verbose=False)\n"
      ]
    },
    {
      "cell_type": "code",
      "execution_count": null,
      "metadata": {
        "id": "Lw_xlKfqcRvI",
        "outputId": "6fc45b7a-661d-424b-f151-f17def5b86a6"
      },
      "outputs": [
        {
          "data": {
            "text/plain": [
              "{'gamma': 0,\n",
              " 'learning_rate': 0.1,\n",
              " 'max_depth': 4,\n",
              " 'reg_lambda': 10.0,\n",
              " 'scale_pos_weight': 1}"
            ]
          },
          "execution_count": 52,
          "metadata": {},
          "output_type": "execute_result"
        }
      ],
      "source": [
        "optimal_params.best_params_"
      ]
    },
    {
      "cell_type": "code",
      "execution_count": null,
      "metadata": {
        "id": "TdKHlP1jcRvI",
        "outputId": "f0a34711-bb90-4dc7-d517-f099dbc86964"
      },
      "outputs": [
        {
          "data": {
            "text/html": [
              "<style>#sk-container-id-4 {color: black;}#sk-container-id-4 pre{padding: 0;}#sk-container-id-4 div.sk-toggleable {background-color: white;}#sk-container-id-4 label.sk-toggleable__label {cursor: pointer;display: block;width: 100%;margin-bottom: 0;padding: 0.3em;box-sizing: border-box;text-align: center;}#sk-container-id-4 label.sk-toggleable__label-arrow:before {content: \"▸\";float: left;margin-right: 0.25em;color: #696969;}#sk-container-id-4 label.sk-toggleable__label-arrow:hover:before {color: black;}#sk-container-id-4 div.sk-estimator:hover label.sk-toggleable__label-arrow:before {color: black;}#sk-container-id-4 div.sk-toggleable__content {max-height: 0;max-width: 0;overflow: hidden;text-align: left;background-color: #f0f8ff;}#sk-container-id-4 div.sk-toggleable__content pre {margin: 0.2em;color: black;border-radius: 0.25em;background-color: #f0f8ff;}#sk-container-id-4 input.sk-toggleable__control:checked~div.sk-toggleable__content {max-height: 200px;max-width: 100%;overflow: auto;}#sk-container-id-4 input.sk-toggleable__control:checked~label.sk-toggleable__label-arrow:before {content: \"▾\";}#sk-container-id-4 div.sk-estimator input.sk-toggleable__control:checked~label.sk-toggleable__label {background-color: #d4ebff;}#sk-container-id-4 div.sk-label input.sk-toggleable__control:checked~label.sk-toggleable__label {background-color: #d4ebff;}#sk-container-id-4 input.sk-hidden--visually {border: 0;clip: rect(1px 1px 1px 1px);clip: rect(1px, 1px, 1px, 1px);height: 1px;margin: -1px;overflow: hidden;padding: 0;position: absolute;width: 1px;}#sk-container-id-4 div.sk-estimator {font-family: monospace;background-color: #f0f8ff;border: 1px dotted black;border-radius: 0.25em;box-sizing: border-box;margin-bottom: 0.5em;}#sk-container-id-4 div.sk-estimator:hover {background-color: #d4ebff;}#sk-container-id-4 div.sk-parallel-item::after {content: \"\";width: 100%;border-bottom: 1px solid gray;flex-grow: 1;}#sk-container-id-4 div.sk-label:hover label.sk-toggleable__label {background-color: #d4ebff;}#sk-container-id-4 div.sk-serial::before {content: \"\";position: absolute;border-left: 1px solid gray;box-sizing: border-box;top: 0;bottom: 0;left: 50%;z-index: 0;}#sk-container-id-4 div.sk-serial {display: flex;flex-direction: column;align-items: center;background-color: white;padding-right: 0.2em;padding-left: 0.2em;position: relative;}#sk-container-id-4 div.sk-item {position: relative;z-index: 1;}#sk-container-id-4 div.sk-parallel {display: flex;align-items: stretch;justify-content: center;background-color: white;position: relative;}#sk-container-id-4 div.sk-item::before, #sk-container-id-4 div.sk-parallel-item::before {content: \"\";position: absolute;border-left: 1px solid gray;box-sizing: border-box;top: 0;bottom: 0;left: 50%;z-index: -1;}#sk-container-id-4 div.sk-parallel-item {display: flex;flex-direction: column;z-index: 1;position: relative;background-color: white;}#sk-container-id-4 div.sk-parallel-item:first-child::after {align-self: flex-end;width: 50%;}#sk-container-id-4 div.sk-parallel-item:last-child::after {align-self: flex-start;width: 50%;}#sk-container-id-4 div.sk-parallel-item:only-child::after {width: 0;}#sk-container-id-4 div.sk-dashed-wrapped {border: 1px dashed gray;margin: 0 0.4em 0.5em 0.4em;box-sizing: border-box;padding-bottom: 0.4em;background-color: white;}#sk-container-id-4 div.sk-label label {font-family: monospace;font-weight: bold;display: inline-block;line-height: 1.2em;}#sk-container-id-4 div.sk-label-container {text-align: center;}#sk-container-id-4 div.sk-container {/* jupyter's `normalize.less` sets `[hidden] { display: none; }` but bootstrap.min.css set `[hidden] { display: none !important; }` so we also need the `!important` here to be able to override the default hidden behavior on the sphinx rendered scikit-learn.org. See: https://github.com/scikit-learn/scikit-learn/issues/21755 */display: inline-block !important;position: relative;}#sk-container-id-4 div.sk-text-repr-fallback {display: none;}</style><div id=\"sk-container-id-4\" class=\"sk-top-container\"><div class=\"sk-text-repr-fallback\"><pre>GridSearchCV(cv=3,\n",
              "             estimator=XGBRegressor(base_score=None, booster=None,\n",
              "                                    callbacks=None, colsample_bylevel=None,\n",
              "                                    colsample_bynode=None, colsample_bytree=0.5,\n",
              "                                    early_stopping_rounds=None,\n",
              "                                    enable_categorical=False, eval_metric=None,\n",
              "                                    feature_types=None, gamma=None, gpu_id=None,\n",
              "                                    grow_policy=None, importance_type=None,\n",
              "                                    interaction_constraints=None,\n",
              "                                    learning_rate=None, ma...\n",
              "                                    max_cat_to_onehot=None, max_delta_step=None,\n",
              "                                    max_depth=None, max_leaves=None,\n",
              "                                    min_child_weight=None, missing=nan,\n",
              "                                    monotone_constraints=None, n_estimators=100,\n",
              "                                    n_jobs=None, num_parallel_tree=None,\n",
              "                                    predictor=None, random_state=None, ...),\n",
              "             param_grid={&#x27;gamma&#x27;: [0], &#x27;learning_rate&#x27;: [0.1], &#x27;max_depth&#x27;: [4],\n",
              "                         &#x27;reg_lambda&#x27;: [10, 100, 500, 1000],\n",
              "                         &#x27;scale_pos_weight&#x27;: [1]},\n",
              "             scoring=&#x27;neg_mean_absolute_error&#x27;)</pre><b>In a Jupyter environment, please rerun this cell to show the HTML representation or trust the notebook. <br />On GitHub, the HTML representation is unable to render, please try loading this page with nbviewer.org.</b></div><div class=\"sk-container\" hidden><div class=\"sk-item sk-dashed-wrapped\"><div class=\"sk-label-container\"><div class=\"sk-label sk-toggleable\"><input class=\"sk-toggleable__control sk-hidden--visually\" id=\"sk-estimator-id-10\" type=\"checkbox\" ><label for=\"sk-estimator-id-10\" class=\"sk-toggleable__label sk-toggleable__label-arrow\">GridSearchCV</label><div class=\"sk-toggleable__content\"><pre>GridSearchCV(cv=3,\n",
              "             estimator=XGBRegressor(base_score=None, booster=None,\n",
              "                                    callbacks=None, colsample_bylevel=None,\n",
              "                                    colsample_bynode=None, colsample_bytree=0.5,\n",
              "                                    early_stopping_rounds=None,\n",
              "                                    enable_categorical=False, eval_metric=None,\n",
              "                                    feature_types=None, gamma=None, gpu_id=None,\n",
              "                                    grow_policy=None, importance_type=None,\n",
              "                                    interaction_constraints=None,\n",
              "                                    learning_rate=None, ma...\n",
              "                                    max_cat_to_onehot=None, max_delta_step=None,\n",
              "                                    max_depth=None, max_leaves=None,\n",
              "                                    min_child_weight=None, missing=nan,\n",
              "                                    monotone_constraints=None, n_estimators=100,\n",
              "                                    n_jobs=None, num_parallel_tree=None,\n",
              "                                    predictor=None, random_state=None, ...),\n",
              "             param_grid={&#x27;gamma&#x27;: [0], &#x27;learning_rate&#x27;: [0.1], &#x27;max_depth&#x27;: [4],\n",
              "                         &#x27;reg_lambda&#x27;: [10, 100, 500, 1000],\n",
              "                         &#x27;scale_pos_weight&#x27;: [1]},\n",
              "             scoring=&#x27;neg_mean_absolute_error&#x27;)</pre></div></div></div><div class=\"sk-parallel\"><div class=\"sk-parallel-item\"><div class=\"sk-item\"><div class=\"sk-label-container\"><div class=\"sk-label sk-toggleable\"><input class=\"sk-toggleable__control sk-hidden--visually\" id=\"sk-estimator-id-11\" type=\"checkbox\" ><label for=\"sk-estimator-id-11\" class=\"sk-toggleable__label sk-toggleable__label-arrow\">estimator: XGBRegressor</label><div class=\"sk-toggleable__content\"><pre>XGBRegressor(base_score=None, booster=None, callbacks=None,\n",
              "             colsample_bylevel=None, colsample_bynode=None,\n",
              "             colsample_bytree=0.5, early_stopping_rounds=None,\n",
              "             enable_categorical=False, eval_metric=None, feature_types=None,\n",
              "             gamma=None, gpu_id=None, grow_policy=None, importance_type=None,\n",
              "             interaction_constraints=None, learning_rate=None, max_bin=None,\n",
              "             max_cat_threshold=None, max_cat_to_onehot=None,\n",
              "             max_delta_step=None, max_depth=None, max_leaves=None,\n",
              "             min_child_weight=None, missing=nan, monotone_constraints=None,\n",
              "             n_estimators=100, n_jobs=None, num_parallel_tree=None,\n",
              "             predictor=None, random_state=None, ...)</pre></div></div></div><div class=\"sk-serial\"><div class=\"sk-item\"><div class=\"sk-estimator sk-toggleable\"><input class=\"sk-toggleable__control sk-hidden--visually\" id=\"sk-estimator-id-12\" type=\"checkbox\" ><label for=\"sk-estimator-id-12\" class=\"sk-toggleable__label sk-toggleable__label-arrow\">XGBRegressor</label><div class=\"sk-toggleable__content\"><pre>XGBRegressor(base_score=None, booster=None, callbacks=None,\n",
              "             colsample_bylevel=None, colsample_bynode=None,\n",
              "             colsample_bytree=0.5, early_stopping_rounds=None,\n",
              "             enable_categorical=False, eval_metric=None, feature_types=None,\n",
              "             gamma=None, gpu_id=None, grow_policy=None, importance_type=None,\n",
              "             interaction_constraints=None, learning_rate=None, max_bin=None,\n",
              "             max_cat_threshold=None, max_cat_to_onehot=None,\n",
              "             max_delta_step=None, max_depth=None, max_leaves=None,\n",
              "             min_child_weight=None, missing=nan, monotone_constraints=None,\n",
              "             n_estimators=100, n_jobs=None, num_parallel_tree=None,\n",
              "             predictor=None, random_state=None, ...)</pre></div></div></div></div></div></div></div></div></div></div>"
            ],
            "text/plain": [
              "GridSearchCV(cv=3,\n",
              "             estimator=XGBRegressor(base_score=None, booster=None,\n",
              "                                    callbacks=None, colsample_bylevel=None,\n",
              "                                    colsample_bynode=None, colsample_bytree=0.5,\n",
              "                                    early_stopping_rounds=None,\n",
              "                                    enable_categorical=False, eval_metric=None,\n",
              "                                    feature_types=None, gamma=None, gpu_id=None,\n",
              "                                    grow_policy=None, importance_type=None,\n",
              "                                    interaction_constraints=None,\n",
              "                                    learning_rate=None, ma...\n",
              "                                    max_cat_to_onehot=None, max_delta_step=None,\n",
              "                                    max_depth=None, max_leaves=None,\n",
              "                                    min_child_weight=None, missing=nan,\n",
              "                                    monotone_constraints=None, n_estimators=100,\n",
              "                                    n_jobs=None, num_parallel_tree=None,\n",
              "                                    predictor=None, random_state=None, ...),\n",
              "             param_grid={'gamma': [0], 'learning_rate': [0.1], 'max_depth': [4],\n",
              "                         'reg_lambda': [10, 100, 500, 1000],\n",
              "                         'scale_pos_weight': [1]},\n",
              "             scoring='neg_mean_absolute_error')"
            ]
          },
          "execution_count": 53,
          "metadata": {},
          "output_type": "execute_result"
        }
      ],
      "source": [
        "params2 = {\n",
        "    \"max_depth\" : [4],\n",
        "    'learning_rate' : [0.1],\n",
        "    'gamma' : [0] ,\n",
        "    'scale_pos_weight' : [1],\n",
        "    'reg_lambda' : [10,100,500,1000]\n",
        "}\n",
        "\n",
        "from sklearn.model_selection import GridSearchCV\n",
        "\n",
        "optimal_params = GridSearchCV(estimator=xgb.XGBRegressor(objective='reg:squarederror',\n",
        "                                                          seed=42,subsample=0.9,colsample_bytree=0.5,\n",
        "                                                          use_label_encoder=False),\n",
        "                              param_grid=params2,\n",
        "                              scoring='neg_mean_absolute_error',\n",
        "                              verbose=0,\n",
        "                              cv=3\n",
        "                             )\n",
        "\n",
        "optimal_params.fit(x_train,y_train,eval_metric='rmsle', eval_set=[(x_test,y_test)], verbose=False)\n"
      ]
    },
    {
      "cell_type": "code",
      "execution_count": null,
      "metadata": {
        "id": "7R3j3WWycRvI",
        "outputId": "5dcda765-82a5-49bb-ef58-8824f63cf222"
      },
      "outputs": [
        {
          "data": {
            "text/plain": [
              "{'gamma': 0,\n",
              " 'learning_rate': 0.1,\n",
              " 'max_depth': 4,\n",
              " 'reg_lambda': 10,\n",
              " 'scale_pos_weight': 1}"
            ]
          },
          "execution_count": 54,
          "metadata": {},
          "output_type": "execute_result"
        }
      ],
      "source": [
        "optimal_params.best_params_"
      ]
    },
    {
      "cell_type": "code",
      "execution_count": null,
      "metadata": {
        "id": "gdqkHrX-cRvJ",
        "outputId": "e461d038-172c-4af6-9786-0783df6be864"
      },
      "outputs": [
        {
          "name": "stdout",
          "output_type": "stream",
          "text": [
            "[0]\tvalidation_0-rmsle:2.26597\n",
            "[1]\tvalidation_0-rmsle:1.65037\n",
            "[2]\tvalidation_0-rmsle:1.29388\n",
            "[3]\tvalidation_0-rmsle:1.05343\n",
            "[4]\tvalidation_0-rmsle:0.90584\n",
            "[5]\tvalidation_0-rmsle:0.81392\n",
            "[6]\tvalidation_0-rmsle:0.74450\n",
            "[7]\tvalidation_0-rmsle:0.69192\n",
            "[8]\tvalidation_0-rmsle:0.65998\n",
            "[9]\tvalidation_0-rmsle:0.63095\n",
            "[10]\tvalidation_0-rmsle:0.61414\n",
            "[11]\tvalidation_0-rmsle:0.60132\n",
            "[12]\tvalidation_0-rmsle:0.59372\n",
            "[13]\tvalidation_0-rmsle:0.59126\n",
            "[14]\tvalidation_0-rmsle:0.59315\n",
            "[15]\tvalidation_0-rmsle:0.60363\n",
            "[16]\tvalidation_0-rmsle:nan\n",
            "[17]\tvalidation_0-rmsle:nan\n",
            "[18]\tvalidation_0-rmsle:0.59055\n",
            "[19]\tvalidation_0-rmsle:nan\n",
            "[20]\tvalidation_0-rmsle:nan\n",
            "[21]\tvalidation_0-rmsle:nan\n",
            "[22]\tvalidation_0-rmsle:nan\n",
            "[23]\tvalidation_0-rmsle:nan\n",
            "[24]\tvalidation_0-rmsle:nan\n",
            "[25]\tvalidation_0-rmsle:nan\n",
            "[26]\tvalidation_0-rmsle:nan\n",
            "[27]\tvalidation_0-rmsle:nan\n",
            "[28]\tvalidation_0-rmsle:nan\n"
          ]
        },
        {
          "data": {
            "text/html": [
              "<style>#sk-container-id-5 {color: black;}#sk-container-id-5 pre{padding: 0;}#sk-container-id-5 div.sk-toggleable {background-color: white;}#sk-container-id-5 label.sk-toggleable__label {cursor: pointer;display: block;width: 100%;margin-bottom: 0;padding: 0.3em;box-sizing: border-box;text-align: center;}#sk-container-id-5 label.sk-toggleable__label-arrow:before {content: \"▸\";float: left;margin-right: 0.25em;color: #696969;}#sk-container-id-5 label.sk-toggleable__label-arrow:hover:before {color: black;}#sk-container-id-5 div.sk-estimator:hover label.sk-toggleable__label-arrow:before {color: black;}#sk-container-id-5 div.sk-toggleable__content {max-height: 0;max-width: 0;overflow: hidden;text-align: left;background-color: #f0f8ff;}#sk-container-id-5 div.sk-toggleable__content pre {margin: 0.2em;color: black;border-radius: 0.25em;background-color: #f0f8ff;}#sk-container-id-5 input.sk-toggleable__control:checked~div.sk-toggleable__content {max-height: 200px;max-width: 100%;overflow: auto;}#sk-container-id-5 input.sk-toggleable__control:checked~label.sk-toggleable__label-arrow:before {content: \"▾\";}#sk-container-id-5 div.sk-estimator input.sk-toggleable__control:checked~label.sk-toggleable__label {background-color: #d4ebff;}#sk-container-id-5 div.sk-label input.sk-toggleable__control:checked~label.sk-toggleable__label {background-color: #d4ebff;}#sk-container-id-5 input.sk-hidden--visually {border: 0;clip: rect(1px 1px 1px 1px);clip: rect(1px, 1px, 1px, 1px);height: 1px;margin: -1px;overflow: hidden;padding: 0;position: absolute;width: 1px;}#sk-container-id-5 div.sk-estimator {font-family: monospace;background-color: #f0f8ff;border: 1px dotted black;border-radius: 0.25em;box-sizing: border-box;margin-bottom: 0.5em;}#sk-container-id-5 div.sk-estimator:hover {background-color: #d4ebff;}#sk-container-id-5 div.sk-parallel-item::after {content: \"\";width: 100%;border-bottom: 1px solid gray;flex-grow: 1;}#sk-container-id-5 div.sk-label:hover label.sk-toggleable__label {background-color: #d4ebff;}#sk-container-id-5 div.sk-serial::before {content: \"\";position: absolute;border-left: 1px solid gray;box-sizing: border-box;top: 0;bottom: 0;left: 50%;z-index: 0;}#sk-container-id-5 div.sk-serial {display: flex;flex-direction: column;align-items: center;background-color: white;padding-right: 0.2em;padding-left: 0.2em;position: relative;}#sk-container-id-5 div.sk-item {position: relative;z-index: 1;}#sk-container-id-5 div.sk-parallel {display: flex;align-items: stretch;justify-content: center;background-color: white;position: relative;}#sk-container-id-5 div.sk-item::before, #sk-container-id-5 div.sk-parallel-item::before {content: \"\";position: absolute;border-left: 1px solid gray;box-sizing: border-box;top: 0;bottom: 0;left: 50%;z-index: -1;}#sk-container-id-5 div.sk-parallel-item {display: flex;flex-direction: column;z-index: 1;position: relative;background-color: white;}#sk-container-id-5 div.sk-parallel-item:first-child::after {align-self: flex-end;width: 50%;}#sk-container-id-5 div.sk-parallel-item:last-child::after {align-self: flex-start;width: 50%;}#sk-container-id-5 div.sk-parallel-item:only-child::after {width: 0;}#sk-container-id-5 div.sk-dashed-wrapped {border: 1px dashed gray;margin: 0 0.4em 0.5em 0.4em;box-sizing: border-box;padding-bottom: 0.4em;background-color: white;}#sk-container-id-5 div.sk-label label {font-family: monospace;font-weight: bold;display: inline-block;line-height: 1.2em;}#sk-container-id-5 div.sk-label-container {text-align: center;}#sk-container-id-5 div.sk-container {/* jupyter's `normalize.less` sets `[hidden] { display: none; }` but bootstrap.min.css set `[hidden] { display: none !important; }` so we also need the `!important` here to be able to override the default hidden behavior on the sphinx rendered scikit-learn.org. See: https://github.com/scikit-learn/scikit-learn/issues/21755 */display: inline-block !important;position: relative;}#sk-container-id-5 div.sk-text-repr-fallback {display: none;}</style><div id=\"sk-container-id-5\" class=\"sk-top-container\"><div class=\"sk-text-repr-fallback\"><pre>XGBRegressor(base_score=None, booster=None, callbacks=None,\n",
              "             colsample_bylevel=None, colsample_bynode=None,\n",
              "             colsample_bytree=0.5, early_stopping_rounds=None,\n",
              "             enable_categorical=False, eval_metric=None, feature_types=None,\n",
              "             gamma=0, gpu_id=None, grow_policy=None, importance_type=None,\n",
              "             interaction_constraints=None, learning_rate=0.1, max_bin=None,\n",
              "             max_cat_threshold=None, max_cat_to_onehot=None,\n",
              "             max_delta_step=None, max_depth=4, max_leaves=None,\n",
              "             min_child_weight=None, missing=nan, monotone_constraints=None,\n",
              "             n_estimators=100, n_jobs=None, num_parallel_tree=None,\n",
              "             predictor=None, random_state=None, ...)</pre><b>In a Jupyter environment, please rerun this cell to show the HTML representation or trust the notebook. <br />On GitHub, the HTML representation is unable to render, please try loading this page with nbviewer.org.</b></div><div class=\"sk-container\" hidden><div class=\"sk-item\"><div class=\"sk-estimator sk-toggleable\"><input class=\"sk-toggleable__control sk-hidden--visually\" id=\"sk-estimator-id-13\" type=\"checkbox\" checked><label for=\"sk-estimator-id-13\" class=\"sk-toggleable__label sk-toggleable__label-arrow\">XGBRegressor</label><div class=\"sk-toggleable__content\"><pre>XGBRegressor(base_score=None, booster=None, callbacks=None,\n",
              "             colsample_bylevel=None, colsample_bynode=None,\n",
              "             colsample_bytree=0.5, early_stopping_rounds=None,\n",
              "             enable_categorical=False, eval_metric=None, feature_types=None,\n",
              "             gamma=0, gpu_id=None, grow_policy=None, importance_type=None,\n",
              "             interaction_constraints=None, learning_rate=0.1, max_bin=None,\n",
              "             max_cat_threshold=None, max_cat_to_onehot=None,\n",
              "             max_delta_step=None, max_depth=4, max_leaves=None,\n",
              "             min_child_weight=None, missing=nan, monotone_constraints=None,\n",
              "             n_estimators=100, n_jobs=None, num_parallel_tree=None,\n",
              "             predictor=None, random_state=None, ...)</pre></div></div></div></div></div>"
            ],
            "text/plain": [
              "XGBRegressor(base_score=None, booster=None, callbacks=None,\n",
              "             colsample_bylevel=None, colsample_bynode=None,\n",
              "             colsample_bytree=0.5, early_stopping_rounds=None,\n",
              "             enable_categorical=False, eval_metric=None, feature_types=None,\n",
              "             gamma=0, gpu_id=None, grow_policy=None, importance_type=None,\n",
              "             interaction_constraints=None, learning_rate=0.1, max_bin=None,\n",
              "             max_cat_threshold=None, max_cat_to_onehot=None,\n",
              "             max_delta_step=None, max_depth=4, max_leaves=None,\n",
              "             min_child_weight=None, missing=nan, monotone_constraints=None,\n",
              "             n_estimators=100, n_jobs=None, num_parallel_tree=None,\n",
              "             predictor=None, random_state=None, ...)"
            ]
          },
          "execution_count": 55,
          "metadata": {},
          "output_type": "execute_result"
        }
      ],
      "source": [
        "reg_xgb = xgb.XGBRegressor(seed=42,\n",
        "                        objective='reg:squarederror',\n",
        "                        gamma=0,\n",
        "                        learning_rate=0.1,\n",
        "                        max_depth=4,\n",
        "                        reg_lambda=10,\n",
        "                        scale_pos_weight=1,\n",
        "                        subsample=0.9,\n",
        "                        colsample_bytree=0.5,\n",
        "                        use_label_encoder=False)\n",
        "reg_xgb.fit(x_train,\n",
        "            y_train,\n",
        "            verbose=True,\n",
        "            early_stopping_rounds=10,\n",
        "            eval_metric='rmsle',\n",
        "            eval_set=[(x_test, y_test)])"
      ]
    },
    {
      "cell_type": "code",
      "execution_count": null,
      "metadata": {
        "id": "s90HLxA6cRvK"
      },
      "outputs": [],
      "source": [
        "#making predictions on training and testing sets\n",
        "y_test_predict_xgb = reg_xgb.predict(x_test)\n",
        "y_train_predict_xgb = reg_xgb.predict(x_train)"
      ]
    },
    {
      "cell_type": "code",
      "execution_count": null,
      "metadata": {
        "id": "KAxhukE1cRvK",
        "outputId": "439aaa8d-87df-41cc-9e99-decc4000e2b4"
      },
      "outputs": [
        {
          "name": "stdout",
          "output_type": "stream",
          "text": [
            "XGBoost Regressor Model Performance: \n",
            "\n",
            "------------------Training Performance:---------------\n",
            "Mean Absolute Error        : 819.1878982519191\n",
            "Mean Squared Error         : 1456337.1041500254\n",
            "Root Mean Squared Error    : 1206.7879284074834\n",
            "R2 Score                   : 0.5007223547190671\n",
            "\n",
            "-----------------Testing Performance:-----------------\n",
            "Mean Absolute Error        : 831.0074778232117\n",
            "Mean Squared Error         : 1449971.986913027\n",
            "Root Mean Squared Error    : 1204.1478260218\n",
            "R2 Score                   : 0.49930748755025667\n"
          ]
        }
      ],
      "source": [
        "from sklearn import metrics\n",
        "print(\"XGBoost Regressor Model Performance: \\n\")\n",
        "\n",
        "print(\"------------------Training Performance:---------------\")\n",
        "print(\"Mean Absolute Error        :\",metrics.mean_absolute_error(y_train,y_train_predict_xgb))\n",
        "print(\"Mean Squared Error         :\",metrics.mean_squared_error(y_train,y_train_predict_xgb))\n",
        "print(\"Root Mean Squared Error    :\",np.sqrt(metrics.mean_squared_error(y_train,y_train_predict_xgb)))\n",
        "print(\"R2 Score                   :\",metrics.r2_score(y_train,y_train_predict_xgb))\n",
        "\n",
        "print(\"\\n-----------------Testing Performance:-----------------\")\n",
        "print(\"Mean Absolute Error        :\",metrics.mean_absolute_error(y_test,y_test_predict_xgb))\n",
        "print(\"Mean Squared Error         :\",metrics.mean_squared_error(y_test,y_test_predict_xgb))\n",
        "print(\"Root Mean Squared Error    :\",np.sqrt(metrics.mean_squared_error(y_test,y_test_predict_xgb)))\n",
        "print(\"R2 Score                   :\",metrics.r2_score(y_test,y_test_predict_xgb))"
      ]
    },
    {
      "cell_type": "code",
      "execution_count": null,
      "metadata": {
        "id": "5wiIfwj8cRvL"
      },
      "outputs": [],
      "source": []
    }
  ],
  "metadata": {
    "colab": {
      "provenance": []
    },
    "kernelspec": {
      "display_name": "Python 3 (ipykernel)",
      "language": "python",
      "name": "python3"
    },
    "language_info": {
      "codemirror_mode": {
        "name": "ipython",
        "version": 3
      },
      "file_extension": ".py",
      "mimetype": "text/x-python",
      "name": "python",
      "nbconvert_exporter": "python",
      "pygments_lexer": "ipython3",
      "version": "3.11.4"
    }
  },
  "nbformat": 4,
  "nbformat_minor": 0
}